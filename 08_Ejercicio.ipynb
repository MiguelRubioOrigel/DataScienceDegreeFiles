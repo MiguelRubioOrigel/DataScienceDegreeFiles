{
 "cells": [
  {
   "cell_type": "markdown",
   "metadata": {
    "collapsed": false
   },
   "source": [
    "<div class=\"alert alert-block alert-warning\">\n",
    "<img src=\"./Imagenes/ITESO_Logo.png\" style=\"width:500px;height:142px;\" title=\"Logo ITESO\">\n",
    "<span style=\"color:SteelBlue\">\n",
    "<br><font face = \"Times New Roman\" size = \"6\"><b><center>Maestría en Sistemas Computacionales</center></b></font>\n",
    "<br><font face = \"Times New Roman\" size = \"5\"><b><center>Programación para Análisis de Datos</center></b></font>\n",
    "\n",
    "<b><br><font face = \"Times New Roman\" size = \"4\"><center>Unidad 4: Proceso de Obtención de Datos</center></font>\n",
    "<font face = \"Times New Roman\" size = \"4\"><center>Tema 4.1: Exploración, Integración y Limpieza de Datos</center></font>\n",
    "<font face = \"Times New Roman\" size = \"4\"><center>Ejercicio para el DataFrame</center></font></b>\n",
    "</span>\n",
    "</div>"
   ]
  },
  {
   "cell_type": "markdown",
   "metadata": {
    "collapsed": false
   },
   "source": [
    "#### Nombre del Alumno: Miguel Angel Rubio Origel\n",
    "#### Matrícula: CD723963\n",
    "#### Posgrado de Adscripción: Maestria en Ciencia de Datos\n",
    "#### DataFrame de Kaggle a Emplear: 07_OlympicAthletes.csv"
   ]
  },
  {
   "cell_type": "markdown",
   "metadata": {
    "collapsed": false
   },
   "source": [
    "#### Instrucciones:\n",
    "Por favor, revisa cuidadosamente las siguientes instrucciones:\n",
    "\n",
    "* Realiza este ejercicio de manera individual.\n",
    "* Escribe tu nombre completo, matrícula, posgrado de adscripción y **DataFrame** a ser empleado en los campos correspondientes.\n",
    "* Lee cuidadosamente cada uno de los ejercicios y realiza las acciones solicitadas.\n",
    "* Coloca tu código ejecutable en las celdas debajo de la explicación de cada reactivo.\n",
    "* Una vez terminado, sube en CANVAS sólamente el archivo `.ipynb` en la liga correspondiente."
   ]
  },
  {
   "cell_type": "markdown",
   "metadata": {
    "collapsed": false
   },
   "source": [
    "#### Explicación:\n",
    "Se cuenta con una lista de 10 bases de datos obtenidas del portal Kaggle.\n",
    "<br>\n",
    "<img src=\"./Imagenes/Kaggle_logo.png\" style=\"width:240px;height:86px;\" class=\"center\">\n",
    "<br>\n",
    "1. **New York City Airbnb Open Data**, archivo `01_AirbnbNY.csv`, la descripción se encuentra [en esta liga](https://www.kaggle.com/dgomonov/new-york-city-airbnb-open-data).\n",
    "2. **Mobile App Store**, archivo `02_AppleStore.csv`, la descripción se encuentra [en esta liga](https://www.kaggle.com/ramamet4/app-store-apple-data-set-10k-apps).\n",
    "3. **E-Commerce Data**, archivo `03_ECommerce.csv`, la descripción se encuentra [en esta liga](https://www.kaggle.com/carrie1/ecommerce-data).\n",
    "4. **FIFA 19 Complete Player Dataset**, archivo `04_FIFAPlayers.csv`, la descripción se encuentra [en esta liga](https://www.kaggle.com/karangadiya/fifa19).\n",
    "5. **NBA All Star Game 2000-2016**, archivo `05_NBAAllStars.csv`, la descripción se encuentra [en esta liga](https://www.kaggle.com/fmejia21/nba-all-star-game-20002016).\n",
    "6. **Netflix Movies and TV Shows**, archivo `06_NetflixTitles.csv`, la descripción se encuentra [en esta liga](https://www.kaggle.com/shivamb/netflix-shows).\n",
    "7. **120 Years of Olympic History: Athletes and Results**, archivo `07_OlympicAthletes.csv`, la descripción se encuentra [en esta liga](https://www.kaggle.com/heesoo37/120-years-of-olympic-history-athletes-and-results).\n",
    "8. **World University Rankings 2020**, archivo `08_UniversityRank.csv`, la descripción se encuentra [en esta liga](https://www.kaggle.com/joeshamen/world-university-rankings-2020/data).\n",
    "9. **Foreign Exchange Rates 2000-2019**, archivo `09_ForeignExchange.csv`, la descripción se encuentra [en esta liga](https://www.kaggle.com/brunotly/foreign-exchange-rates-per-dollar-20002019).\n",
    "10. **Used Cars Catalog**, archivo `10_UsedCars.csv`, la descripción se encuentra [en esta liga](https://www.kaggle.com/lepchenkov/usedcarscatalog).\n",
    "\n",
    "Se debe seleccionar una para realizar el proceso de análisis por medio de los reactivos descritos a continuación, donde cada uno tiene un valor de **5 CRÉDITOS**, los cuales se agregarán al total acumulado de cada uno de los alumnos del curso."
   ]
  },
  {
   "cell_type": "markdown",
   "metadata": {
    "collapsed": false
   },
   "source": [
    "**1.** Cargar las librerías **Pandas**, **Numpy**, **Matplotlib** y **Seaborn**. Posteriormente, crear un **DataFrame** donde se inserte el contenido de la base de datos seleccionada para este ejercicio, mostrando el contenido del **DataFrame** final a través del método `.head()`."
   ]
  },
  {
   "cell_type": "code",
   "execution_count": 2,
   "metadata": {
    "collapsed": false,
    "scrolled": true
   },
   "outputs": [
   ],
   "source": [
    "import pandas as pd\n",
    "import matplotlib as plt\n",
    "import seaborn as sn"
   ]
  },
  {
   "cell_type": "markdown",
   "metadata": {
    "collapsed": false
   },
   "source": [
    "**2.** Definir alguna de las columnas como el índice del **DataFrame**."
   ]
  },
  {
   "cell_type": "code",
   "execution_count": 23,
   "metadata": {
    "collapsed": false
   },
   "outputs": [
   ],
   "source": [
    "df = pd.read_csv(\"07_OlympicAthletes.csv\",index_col=\"Name\")\n",
    "df2 = pd.read_csv(\"07_OlympicAthletes.csv\",index_col=\"Name\")"
   ]
  },
  {
   "cell_type": "markdown",
   "metadata": {
    "collapsed": false
   },
   "source": [
    "**3.** Realizar una homogeneización en los encabezados de las columnas empleando el método `.rename()`."
   ]
  },
  {
   "cell_type": "code",
   "execution_count": 8,
   "metadata": {
    "collapsed": false
   },
   "outputs": [
   ],
   "source": [
    "df.rename(columns={'Sex': 'Gender','NOC': 'CountryCode'}, inplace=True)"
   ]
  },
  {
   "cell_type": "markdown",
   "metadata": {
    "collapsed": false
   },
   "source": [
    "**4.** Mostrar la cantidad de celdas que contienen valores nulos en el **DataFrame**"
   ]
  },
  {
   "cell_type": "code",
   "execution_count": 9,
   "metadata": {
    "collapsed": false,
    "scrolled": true
   },
   "outputs": [
    {
     "name": "stdout",
     "output_type": "stream",
     "text": [
      "Cantidad de Valores Nulos en \"revenue\" = ID                  0\n",
      "Gender              0\n",
      "Age              9474\n",
      "Height          60171\n",
      "Weight          62875\n",
      "Team                0\n",
      "CountryCode         0\n",
      "Games               0\n",
      "Year                0\n",
      "Season              0\n",
      "City                0\n",
      "Sport               0\n",
      "Event               0\n",
      "Medal          231333\n",
      "dtype: int64\n"
     ]
    }
   ],
   "source": [
    "print(\"Cantidad de Valores Nulos en \\\"revenue\\\" =\", df.isnull().sum())"
   ]
  },
  {
   "cell_type": "markdown",
   "metadata": {
    "collapsed": false
   },
   "source": [
    "**5.** Debido a que es necesario contar con la información completa para cada columna, es posible realizar la eliminación de los renglones que contienen valores nulos. El siguiente paso es eliminar esos renglones:"
   ]
  },
  {
   "cell_type": "code",
   "execution_count": 15,
   "metadata": {
    "collapsed": false
   },
   "outputs": [
    {
     "name": "stdout",
     "output_type": "stream",
     "text": [
      "                          ID Gender   Age  Height  Weight     Team  \\\n",
      "Name                                                                 \n",
      "Juhamatti Tapio Aaltonen  16      M  28.0   184.0    85.0  Finland   \n",
      "Paavo Johannes Aaltonen   17      M  28.0   175.0    64.0  Finland   \n",
      "Paavo Johannes Aaltonen   17      M  28.0   175.0    64.0  Finland   \n",
      "Paavo Johannes Aaltonen   17      M  28.0   175.0    64.0  Finland   \n",
      "Paavo Johannes Aaltonen   17      M  28.0   175.0    64.0  Finland   \n",
      "Paavo Johannes Aaltonen   17      M  32.0   175.0    64.0  Finland   \n",
      "Kjetil Andr Aamodt        20      M  20.0   176.0    85.0   Norway   \n",
      "Kjetil Andr Aamodt        20      M  20.0   176.0    85.0   Norway   \n",
      "Kjetil Andr Aamodt        20      M  22.0   176.0    85.0   Norway   \n",
      "Kjetil Andr Aamodt        20      M  22.0   176.0    85.0   Norway   \n",
      "\n",
      "                         CountryCode        Games  Year  Season         City  \\\n",
      "Name                                                                           \n",
      "Juhamatti Tapio Aaltonen         FIN  2014 Winter  2014  Winter        Sochi   \n",
      "Paavo Johannes Aaltonen          FIN  1948 Summer  1948  Summer       London   \n",
      "Paavo Johannes Aaltonen          FIN  1948 Summer  1948  Summer       London   \n",
      "Paavo Johannes Aaltonen          FIN  1948 Summer  1948  Summer       London   \n",
      "Paavo Johannes Aaltonen          FIN  1948 Summer  1948  Summer       London   \n",
      "Paavo Johannes Aaltonen          FIN  1952 Summer  1952  Summer     Helsinki   \n",
      "Kjetil Andr Aamodt               NOR  1992 Winter  1992  Winter  Albertville   \n",
      "Kjetil Andr Aamodt               NOR  1992 Winter  1992  Winter  Albertville   \n",
      "Kjetil Andr Aamodt               NOR  1994 Winter  1994  Winter  Lillehammer   \n",
      "Kjetil Andr Aamodt               NOR  1994 Winter  1994  Winter  Lillehammer   \n",
      "\n",
      "                                  Sport  \\\n",
      "Name                                      \n",
      "Juhamatti Tapio Aaltonen     Ice Hockey   \n",
      "Paavo Johannes Aaltonen      Gymnastics   \n",
      "Paavo Johannes Aaltonen      Gymnastics   \n",
      "Paavo Johannes Aaltonen      Gymnastics   \n",
      "Paavo Johannes Aaltonen      Gymnastics   \n",
      "Paavo Johannes Aaltonen      Gymnastics   \n",
      "Kjetil Andr Aamodt        Alpine Skiing   \n",
      "Kjetil Andr Aamodt        Alpine Skiing   \n",
      "Kjetil Andr Aamodt        Alpine Skiing   \n",
      "Kjetil Andr Aamodt        Alpine Skiing   \n",
      "\n",
      "                                                           Event   Medal  \n",
      "Name                                                                      \n",
      "Juhamatti Tapio Aaltonen             Ice Hockey Men's Ice Hockey  Bronze  \n",
      "Paavo Johannes Aaltonen   Gymnastics Men's Individual All-Around  Bronze  \n",
      "Paavo Johannes Aaltonen         Gymnastics Men's Team All-Around    Gold  \n",
      "Paavo Johannes Aaltonen             Gymnastics Men's Horse Vault    Gold  \n",
      "Paavo Johannes Aaltonen         Gymnastics Men's Pommelled Horse    Gold  \n",
      "Paavo Johannes Aaltonen         Gymnastics Men's Team All-Around  Bronze  \n",
      "Kjetil Andr Aamodt                   Alpine Skiing Men's Super G    Gold  \n",
      "Kjetil Andr Aamodt              Alpine Skiing Men's Giant Slalom  Bronze  \n",
      "Kjetil Andr Aamodt                  Alpine Skiing Men's Downhill  Silver  \n",
      "Kjetil Andr Aamodt                   Alpine Skiing Men's Super G  Bronze  \n"
     ]
    }
   ],
   "source": [
    "df = df.dropna()"
   ]
  },
  {
   "cell_type": "markdown",
   "metadata": {
    "collapsed": false
   },
   "source": [
    "**6.** Realizar algún proceso de **Imputación** de los ***valores nulos*** restantes en el **DataFrame**:"
   ]
  },
  {
   "cell_type": "code",
   "execution_count": 34,
   "metadata": {
    "collapsed": false
   },
   "outputs": [
   ],
   "source": [
    "serie = df2['Age']\n",
    "serie_mean = serie.mean()\n",
    "serie = serie.fillna(serie_mean, inplace = True)"
   ]
  },
  {
   "cell_type": "markdown",
   "metadata": {
    "collapsed": false
   },
   "source": [
    "**7.** Determinar el valor de la media de alguna de las columnas e imprimir el resultado con la función `print()`:"
   ]
  },
  {
   "cell_type": "code",
   "execution_count": 25,
   "metadata": {
    "collapsed": false,
    "scrolled": true
   },
   "outputs": [
    {
     "name": "stdout",
     "output_type": "stream",
     "text": [
      "25.55689835729893\n"
     ]
    }
   ],
   "source": [
    "print(df2['Age'].mean())"
   ]
  },
  {
   "cell_type": "markdown",
   "metadata": {
    "collapsed": false
   },
   "source": [
    "**8.** Realizar un Histograma con los datos de alguna de las columnas contenidas en el **DataFrame**, agregando títulos a los ejes y al gráfico:"
   ]
  },
  {
   "cell_type": "code",
   "execution_count": 28,
   "metadata": {
    "collapsed": false
   },
   "outputs": [
    {
     "data": {
      "image/png": "[encoded data removed]",
      "text/plain": [
       "<Figure size 864x504 with 1 Axes>"
      ]
     },
     "execution_count": 28,
     "metadata": {
      "image/png": {
       "height": 426,
       "width": 743
      },
      "needs_background": "light"
     },
     "output_type": "execute_result"
    }
   ],
   "source": [
    "df['Weight'].plot(kind='hist', title='Olympic Medalists Weight');"
   ]
  },
  {
   "cell_type": "markdown",
   "metadata": {
    "collapsed": false
   },
   "source": [
    "**9.** Realizar un análisis de Correlación en el **DataFrame**:"
   ]
  },
  {
   "cell_type": "code",
   "execution_count": 27,
   "metadata": {
    "collapsed": false
   },
   "outputs": [
    {
     "data": {
      "text/html": [
       "<div>\n",
       "<style scoped>\n",
       "    .dataframe tbody tr th:only-of-type {\n",
       "        vertical-align: middle;\n",
       "    }\n",
       "\n",
       "    .dataframe tbody tr th {\n",
       "        vertical-align: top;\n",
       "    }\n",
       "\n",
       "    .dataframe thead th {\n",
       "        text-align: right;\n",
       "    }\n",
       "</style>\n",
       "<table border=\"1\" class=\"dataframe\">\n",
       "  <thead>\n",
       "    <tr style=\"text-align: right;\">\n",
       "      <th></th>\n",
       "      <th>ID</th>\n",
       "      <th>Age</th>\n",
       "      <th>Height</th>\n",
       "      <th>Weight</th>\n",
       "      <th>Year</th>\n",
       "    </tr>\n",
       "  </thead>\n",
       "  <tbody>\n",
       "    <tr>\n",
       "      <th>ID</th>\n",
       "      <td>1.000000</td>\n",
       "      <td>-0.003631</td>\n",
       "      <td>-0.011141</td>\n",
       "      <td>-0.009176</td>\n",
       "      <td>0.011885</td>\n",
       "    </tr>\n",
       "    <tr>\n",
       "      <th>Age</th>\n",
       "      <td>-0.003631</td>\n",
       "      <td>1.000000</td>\n",
       "      <td>0.138246</td>\n",
       "      <td>0.212069</td>\n",
       "      <td>-0.115137</td>\n",
       "    </tr>\n",
       "    <tr>\n",
       "      <th>Height</th>\n",
       "      <td>-0.011141</td>\n",
       "      <td>0.138246</td>\n",
       "      <td>1.000000</td>\n",
       "      <td>0.796213</td>\n",
       "      <td>0.047578</td>\n",
       "    </tr>\n",
       "    <tr>\n",
       "      <th>Weight</th>\n",
       "      <td>-0.009176</td>\n",
       "      <td>0.212069</td>\n",
       "      <td>0.796213</td>\n",
       "      <td>1.000000</td>\n",
       "      <td>0.019095</td>\n",
       "    </tr>\n",
       "    <tr>\n",
       "      <th>Year</th>\n",
       "      <td>0.011885</td>\n",
       "      <td>-0.115137</td>\n",
       "      <td>0.047578</td>\n",
       "      <td>0.019095</td>\n",
       "      <td>1.000000</td>\n",
       "    </tr>\n",
       "  </tbody>\n",
       "</table>\n",
       "</div>"
      ],
      "text/plain": [
       "              ID       Age    Height    Weight      Year\n",
       "ID      1.000000 -0.003631 -0.011141 -0.009176  0.011885\n",
       "Age    -0.003631  1.000000  0.138246  0.212069 -0.115137\n",
       "Height -0.011141  0.138246  1.000000  0.796213  0.047578\n",
       "Weight -0.009176  0.212069  0.796213  1.000000  0.019095\n",
       "Year    0.011885 -0.115137  0.047578  0.019095  1.000000"
      ]
     },
     "execution_count": 27,
     "metadata": {
     },
     "output_type": "execute_result"
    }
   ],
   "source": [
    "df.corr()"
   ]
  },
  {
   "cell_type": "markdown",
   "metadata": {
    "collapsed": false
   },
   "source": [
    "**10.** Realizar alguna operación de filtrado sobre el **DataFrame**:"
   ]
  },
  {
   "cell_type": "code",
   "execution_count": 26,
   "metadata": {
    "collapsed": false
   },
   "outputs": [
    {
     "name": "stdout",
     "output_type": "stream",
     "text": [
      "                       ID Sex   Age  Height  Weight  \\\n",
      "Name                                                  \n",
      "Dimitrios Loundras  71691   M  10.0     NaN     NaN   \n",
      "\n",
      "                                             Team  NOC        Games  Year  \\\n",
      "Name                                                                        \n",
      "Dimitrios Loundras  Ethnikos Gymnastikos Syllogos  GRE  1896 Summer  1896   \n",
      "\n",
      "                    Season    City       Sport  \\\n",
      "Name                                             \n",
      "Dimitrios Loundras  Summer  Athina  Gymnastics   \n",
      "\n",
      "                                                    Event   Medal  \n",
      "Name                                                               \n",
      "Dimitrios Loundras  Gymnastics Men's Parallel Bars, Teams  Bronze  \n"
     ]
    }
   ],
   "source": [
    "print(df2[df2['Age'] == 10])"
   ]
  },
  {
   "cell_type": "markdown",
   "metadata": {
    "collapsed": false
   },
   "source": [
    "<div class=\"alert alert-block alert-danger\">\n",
    "<b>.: Fin del Ejercicio :.</b>\n",
    "</div>"
   ]
  }
 ],
 "metadata": {
  "anaconda-cloud": {
  },
  "kernelspec": {
   "display_name": "Python 3 (system-wide)",
   "language": "python",
   "metadata": {
    "cocalc": {
     "description": "Python 3 programming language",
     "priority": 100,
     "url": "https://www.python.org/"
    }
   },
   "name": "python3",
   "resource_dir": "/ext/jupyter/kernels/python3"
  },
  "language_info": {
   "codemirror_mode": {
    "name": "ipython",
    "version": 3
   },
   "file_extension": ".py",
   "mimetype": "text/x-python",
   "name": "python",
   "nbconvert_exporter": "python",
   "pygments_lexer": "ipython3",
   "version": "3.8.5"
  },
  "toc": {
   "nav_menu": {
   },
   "number_sections": true,
   "sideBar": true,
   "skip_h1_title": false,
   "toc_cell": false,
   "toc_position": {
   },
   "toc_section_display": "block",
   "toc_window_display": true
  }
 },
 "nbformat": 4,
 "nbformat_minor": 4
}