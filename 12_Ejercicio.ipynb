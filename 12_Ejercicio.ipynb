{
 "cells": [
  {
   "cell_type": "markdown",
   "metadata": {
    "collapsed": false
   },
   "source": [
    "<div class=\"alert alert-block alert-warning\">\n",
    "<img src=\"./Imagenes/ITESO_Logo.png\" style=\"width:500px;height:142px;\" title=\"Logo ITESO\">\n",
    "<span style=\"color:SteelBlue\">\n",
    "<br><font face = \"Times New Roman\" size = \"6\"><b><center>Maestría en Sistemas Computacionales</center></b></font>\n",
    "<br><font face = \"Times New Roman\" size = \"5\"><b><center>Programación para Análisis de Datos</center></b></font>\n",
    "\n",
    "<b><br><font face = \"Times New Roman\" size = \"4\"><center>Unidad 5: Proceso de Selección de Métodos</center></font>\n",
    "<font face = \"Times New Roman\" size = \"4\"><center>Tema 5.1: Procesamiento de Lenguaje Natural</center></font>\n",
    "<font face = \"Times New Roman\" size = \"4\"><center>Ejercicio de Procesamiento de Lenguaje Natural</center></font></b>\n",
    "</span>\n",
    "</div>"
   ]
  },
  {
   "cell_type": "markdown",
   "metadata": {
    "collapsed": false
   },
   "source": [
    "#### Nombre del Alumno: Miguel Angel Rubio Origel\n",
    "#### Matrícula: CD723963\n",
    "#### Posgrado de Adscripción: Maestría en Ciencia de Datos"
   ]
  },
  {
   "cell_type": "markdown",
   "metadata": {
    "collapsed": false
   },
   "source": [
    "#### Instrucciones:\n",
    "Por favor, revisa cuidadosamente las siguientes instrucciones:\n",
    "\n",
    "* Realiza este ejercicio de manera individual.\n",
    "* Escribe tu nombre completo, matrícula y posgrado de adscripción en los campos correspondientes.\n",
    "* Lee cuidadosamente cada uno de los ejercicios y realiza las acciones solicitadas.\n",
    "* Coloca tu código ejecutable en las celdas debajo de la explicación de cada reactivo.\n",
    "* Sube en CANVAS sólamente el archivo `.ipynb` en la liga correspondiente."
   ]
  },
  {
   "cell_type": "markdown",
   "metadata": {
    "collapsed": false
   },
   "source": [
    "#### Explicación:\n",
    "Se empleará el **Corpus** `Gutenberg`, del cual se leerán los datos del libro **The Tragedie of Julius Caesar** de ***William Shakespeare*** cuyo archivo es `shakespeare-caesar.txt`. \n",
    "\n",
    "Para este ejercicio, se deben realizar el proceso de análisis por medio de los reactivos descritos a continuación, donde cada uno tiene un valor de **5 CRÉDITOS**, los cuales se agregarán al total acumulado de cada uno de los alumnos del curso."
   ]
  },
  {
   "cell_type": "markdown",
   "metadata": {
    "collapsed": false
   },
   "source": [
    "**1.** Las acciones a realizar en este reactivo para leer los datos del libro **The Tragedie of Julius Caesar** de ***William Shakespeare*** son:\n",
    "\n",
    "* Importar la librería **NLTK**. \n",
    "* Descargar el **Corpus** `Gutenberg`.\n",
    "* Leer el texto del libro por medio del método `.corpus.gutenberg.words()`. "
   ]
  },
  {
   "cell_type": "code",
   "execution_count": 2,
   "metadata": {
    "collapsed": false,
    "scrolled": true
   },
   "outputs": [
    {
     "name": "stderr",
     "output_type": "stream",
     "text": [
      "[nltk_data] Downloading package gutenberg to /home/user/nltk_data...\n",
      "[nltk_data]   Package gutenberg is already up-to-date!\n"
     ]
    }
   ],
   "source": [
    "# Código del Reactivo 1\n",
    "import nltk\n",
    "nltk.download('gutenberg')\n",
    "caesar = nltk.corpus.gutenberg.words('shakespeare-caesar.txt')"
   ]
  },
  {
   "cell_type": "markdown",
   "metadata": {
    "collapsed": false
   },
   "source": [
    "**2.** Determinar la **Distribución de Frecuencia** presente en este libro empleando el método `.FreqDist()` y mostrar la lista resultante."
   ]
  },
  {
   "cell_type": "code",
   "execution_count": 4,
   "metadata": {
    "collapsed": false
   },
   "outputs": [
    {
     "name": "stdout",
     "output_type": "stream",
     "text": [
      "La Distribución de Frecuencia es:\n"
     ]
    },
    {
     "data": {
      "text/plain": [
       "FreqDist({',': 2204, '.': 1296, 'I': 531, 'the': 502, ':': 499, 'and': 409, \"'\": 384, 'to': 370, 'you': 342, 'of': 336, ...})"
      ]
     },
     "execution_count": 4,
     "metadata": {
     },
     "output_type": "execute_result"
    }
   ],
   "source": [
    "# Código del Reactivo 2\n",
    "caesar_fd = nltk.FreqDist(caesar)\n",
    "print(\"La Distribución de Frecuencia es:\")\n",
    "display(caesar_fd)"
   ]
  },
  {
   "cell_type": "markdown",
   "metadata": {
    "collapsed": false
   },
   "source": [
    "**3.** Determinar las siguientes cantidades: \n",
    "\n",
    "* La cantidad de elementos totales contenidos en el documento empleando el método `.len()`.\n",
    "* La cantidad de los elementos únicos contenidos en el documento empleando el método `.set()`."
   ]
  },
  {
   "cell_type": "code",
   "execution_count": 9,
   "metadata": {
    "collapsed": false
   },
   "outputs": [
    {
     "name": "stdout",
     "output_type": "stream",
     "text": [
      "La cantidad de elementos en el documento es: 25833\n",
      "La cantidad de palabras únicas en el documento es: 3560\n"
     ]
    }
   ],
   "source": [
    "# Código del Reactivo 3\n",
    "print(\"La cantidad de elementos en el documento es:\", len(caesar))\n",
    "print(\"La cantidad de palabras únicas en el documento es:\", len(set(caesar)))"
   ]
  },
  {
   "cell_type": "markdown",
   "metadata": {
    "collapsed": false
   },
   "source": [
    "**4.** Realizar la búsqueda de los 20 elementos más empleados en el libro empleando el método `.most_common()` y mostrarlos."
   ]
  },
  {
   "cell_type": "code",
   "execution_count": 7,
   "metadata": {
    "collapsed": false
   },
   "outputs": [
    {
     "data": {
      "text/plain": [
       "[(',', 2204),\n",
       " ('.', 1296),\n",
       " ('I', 531),\n",
       " ('the', 502),\n",
       " (':', 499),\n",
       " ('and', 409),\n",
       " (\"'\", 384),\n",
       " ('to', 370),\n",
       " ('you', 342),\n",
       " ('of', 336),\n",
       " ('?', 296),\n",
       " ('not', 249),\n",
       " ('a', 240),\n",
       " ('is', 230),\n",
       " ('And', 218),\n",
       " ('d', 215),\n",
       " ('in', 204),\n",
       " ('that', 200),\n",
       " ('Caesar', 189),\n",
       " ('my', 188)]"
      ]
     },
     "execution_count": 7,
     "metadata": {
     },
     "output_type": "execute_result"
    }
   ],
   "source": [
    "# Código del Reactivo 4\n",
    "caesar_fd.most_common(20)"
   ]
  },
  {
   "cell_type": "markdown",
   "metadata": {
    "collapsed": false
   },
   "source": [
    "**5.** A partir del texto, realizar una búsqueda de las palabras que tengan 6 caracteres de extensión y los caracteres \"***ea***\" en su parte media, empleando el método `.search()` de la librería `re` (la cual debe ser importada). "
   ]
  },
  {
   "cell_type": "code",
   "execution_count": 8,
   "metadata": {
    "collapsed": false
   },
   "outputs": [
    {
     "data": {
      "text/plain": [
       "{'Breake',\n",
       " 'Breast',\n",
       " 'Cleane',\n",
       " 'Dreame',\n",
       " 'Sheath',\n",
       " 'Speake',\n",
       " 'Sweare',\n",
       " 'breake',\n",
       " 'breath',\n",
       " 'dreame',\n",
       " 'dreamt',\n",
       " 'please',\n",
       " 'speake',\n",
       " 'steale',\n",
       " 'sweare',\n",
       " 'wreath'}"
      ]
     },
     "execution_count": 8,
     "metadata": {
     },
     "output_type": "execute_result"
    }
   ],
   "source": [
    "# Código del Reactivo 5\n",
    "import re\n",
    "set([palabra for palabra in caesar if re.search(\"^..ea..$\", palabra)])"
   ]
  },
  {
   "cell_type": "markdown",
   "metadata": {
    "collapsed": false
   },
   "source": [
    "<div class=\"alert alert-block alert-danger\">\n",
    "<b>.: Fin del Ejercicio :.</b>\n",
    "</div>"
   ]
  }
 ],
 "metadata": {
  "anaconda-cloud": {
  },
  "kernelspec": {
   "display_name": "Python 3 (system-wide)",
   "language": "python",
   "metadata": {
    "cocalc": {
     "description": "Python 3 programming language",
     "priority": 100,
     "url": "https://www.python.org/"
    }
   },
   "name": "python3",
   "resource_dir": "/ext/jupyter/kernels/python3"
  },
  "language_info": {
   "codemirror_mode": {
    "name": "ipython",
    "version": 3
   },
   "file_extension": ".py",
   "mimetype": "text/x-python",
   "name": "python",
   "nbconvert_exporter": "python",
   "pygments_lexer": "ipython3",
   "version": "3.8.5"
  },
  "toc": {
   "nav_menu": {
   },
   "number_sections": true,
   "sideBar": true,
   "skip_h1_title": false,
   "toc_cell": false,
   "toc_position": {
   },
   "toc_section_display": "block",
   "toc_window_display": true
  }
 },
 "nbformat": 4,
 "nbformat_minor": 4
}