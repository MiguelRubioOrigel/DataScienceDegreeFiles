{
 "cells": [
  {
   "cell_type": "markdown",
   "metadata": {
    "collapsed": false
   },
   "source": [
    "<div class=\"alert alert-block alert-warning\">\n",
    "<img src=\"./Imagenes/ITESO_Logo.png\" style=\"width:500px;height:142px;\" title=\"Logo ITESO\">\n",
    "<br><font face = \"Times New Roman\" size = \"6\"><b><center>Maestría en Sistemas Computacionales</center></b></font>\n",
    "<br><font face = \"Times New Roman\" size = \"5\"><b><center>Programación para Análisis de Datos</center></b></font>\n",
    "\n",
    "<b><br><font face = \"Times New Roman\" size = \"4\"><center>Unidad 5: Proceso de Selección de Métodos</center></font>\n",
    "<font face = \"Times New Roman\" size = \"4\"><center>Tema 5.4: Modelo K-Means</center></font>\n",
    "<font face = \"Times New Roman\" size = \"4\"><center>Ejercicio del Modelo K-Means</center></font>\n",
    "</div>"
   ]
  },
  {
   "cell_type": "markdown",
   "metadata": {
    "collapsed": false
   },
   "source": [
    "#### Nombre del Alumno: Miguel Angel Rubio Origel\n",
    "#### Matrícula: CD723963\n",
    "#### Posgrado de Adscripción: Maestria en Ciencia de Datos"
   ]
  },
  {
   "cell_type": "markdown",
   "metadata": {
    "collapsed": false
   },
   "source": [
    "#### Instrucciones:\n",
    "Por favor, revisa cuidadosamente las siguientes instrucciones:\n",
    "\n",
    "* Realiza este ejercicio de manera individual.\n",
    "* Escribe tu nombre completo, matrícula y posgrado de adscripción en los campos correspondientes.\n",
    "* Lee cuidadosamente cada uno de los ejercicios y realiza las acciones solicitadas.\n",
    "* Coloca tu código ejecutable en las celdas debajo de la explicación de cada reactivo.\n",
    "* Sube en CANVAS sólamente el archivo `.ipynb` en la liga correspondiente."
   ]
  },
  {
   "cell_type": "markdown",
   "metadata": {
    "collapsed": false
   },
   "source": [
    "#### Explicación:\n",
    "Se utilizarán como entradas un conjunto de datos en el que se analizaban rasgos de la personalidad de usuarios de **Twitter**. Se han filtrado a 140 personas reconocidas y de diversas partes del mundo en diferentes areas: deporte, cantantes, actores, etc. Basado en una metodología de **Psicología** conocida como *Las 5 Dimensiones de la Personalidad*, se obtiene un **DataFrame** del archivo `Ocean_Twitter.CSV` que contiene los siguientes encabezados de las columnas de información:\n",
    "\n",
    "1. `usuario`: El nombre del usuario en Twitter (*texto*).\n",
    "2. `op`: **Openness to experience** – Grado de apertura mental a nuevas experiencias (*flotante*).\n",
    "3. `co`: **Conscientiousness** – Grado de orden y organización (*flotante*).\n",
    "4. `ex`: **Extraversion** – Grado de timidez o participación ante el grupo social (*flotante*).\n",
    "5. `ag`: **Agreeableness** – Grado de empatía con los demás y temperamento (*flotante*).\n",
    "6. `ne`: **Neuroticism** – Grado de neuroticismo, nervioso, irritabilidad y seguridad en sí mismo (*flotante*).\n",
    "7. `palabras`: Cantidad promedio de palabras usadas en sus Tweets (*flotante*).\n",
    "8. `categoria`: Actividad laboral del usuario (actor, cantante, etc, es un valor *entero*).\n",
    "\n",
    "Se utilizará el algoritmo **K-Means** para que agrupe estos usuarios por sus similitudes en la personalidad. \n",
    "\n",
    "**En problema consiste en determinar el grupo al que pertenece el usuario dependiendo de valores de personalidad específicos.**"
   ]
  },
  {
   "cell_type": "code",
   "execution_count": 3,
   "metadata": {
    "collapsed": false,
    "scrolled": true
   },
   "outputs": [
   ],
   "source": [
    "#Importación de librerías\n",
    "import pandas as pd\n",
    "import numpy as np\n",
    "import matplotlib.pyplot as plt\n",
    "\n",
    "#Definición de los parámetros de los gráficos\n",
    "plt.rcParams.update({'font.size': 11, 'figure.figsize': (16, 9)}) \n",
    "plt.style.use('ggplot')\n",
    "\n",
    "#Lectura del DataSet\n",
    "datos_df = pd.read_csv(\"Ocean_Twitter.csv\")"
   ]
  },
  {
   "cell_type": "markdown",
   "metadata": {
    "collapsed": false
   },
   "source": [
    "**1.** Definir la estructura de datos que se utilizará para alimentar el algoritmo, empleando las 5 columnas de información (`op`, `co`, `ex`, `ag` y `ne`) en la variable X, y la columna `categoria` en la variable *y*, las cuales se convierten en arreglos de **NumPy**:"
   ]
  },
  {
   "cell_type": "code",
   "execution_count": 4,
   "metadata": {
    "collapsed": false,
    "scrolled": true
   },
   "outputs": [
   ],
   "source": [
    "# Código del Reactivo 1\n",
    "\n",
    "#Definición de los valores X e y\n",
    "X = np.array(datos_df[['op','ex','ag','co','ne']])\n",
    "y = np.array(datos_df['categoria'])"
   ]
  },
  {
   "cell_type": "markdown",
   "metadata": {
    "collapsed": false
   },
   "source": [
    "**2.** Ejecutar el algoritmo para 3 clústers (*K = 3*) obteniendo las etiquetas e imprimiendo los centroides:"
   ]
  },
  {
   "cell_type": "code",
   "execution_count": 5,
   "metadata": {
    "collapsed": false
   },
   "outputs": [
    {
     "name": "stdout",
     "output_type": "stream",
     "text": [
      "Los valores de los centroides son: \n",
      " [[44.8510553  39.43866323 19.87397079 24.8031376   9.17429846]\n",
      " [36.42402048 46.7349062  31.93118182 18.58415332  7.39443677]\n",
      " [56.76199819 34.22990819 15.86322912 25.49525258  5.86375296]]\n"
     ]
    }
   ],
   "source": [
    "# Código del Reactivo 2\n",
    "\n",
    "#Importación de librerías\n",
    "from sklearn.cluster import KMeans\n",
    "\n",
    "#Aplicación del Modelo K-Means\n",
    "kmeans = KMeans(n_clusters = 3).fit(X)\n",
    "centroids = kmeans.cluster_centers_\n",
    "print(\"Los valores de los centroides son: \\n\", centroids)"
   ]
  },
  {
   "cell_type": "markdown",
   "metadata": {
    "collapsed": false
   },
   "source": [
    "**3.** Mostrar cuántos usuarios tiene cada uno de los clústers:"
   ]
  },
  {
   "cell_type": "code",
   "execution_count": 6,
   "metadata": {
    "collapsed": false,
    "scrolled": true
   },
   "outputs": [
    {
     "name": "stdout",
     "output_type": "stream",
     "text": [
      "La cantidad de usuarios en cada clúster es:\n"
     ]
    },
    {
     "data": {
      "text/html": [
       "<div>\n",
       "<style scoped>\n",
       "    .dataframe tbody tr th:only-of-type {\n",
       "        vertical-align: middle;\n",
       "    }\n",
       "\n",
       "    .dataframe tbody tr th {\n",
       "        vertical-align: top;\n",
       "    }\n",
       "\n",
       "    .dataframe thead th {\n",
       "        text-align: right;\n",
       "    }\n",
       "</style>\n",
       "<table border=\"1\" class=\"dataframe\">\n",
       "  <thead>\n",
       "    <tr style=\"text-align: right;\">\n",
       "      <th></th>\n",
       "      <th>color</th>\n",
       "      <th>cantidad</th>\n",
       "    </tr>\n",
       "  </thead>\n",
       "  <tbody>\n",
       "    <tr>\n",
       "      <th>0</th>\n",
       "      <td>rojo</td>\n",
       "      <td>70</td>\n",
       "    </tr>\n",
       "    <tr>\n",
       "      <th>1</th>\n",
       "      <td>verde</td>\n",
       "      <td>44</td>\n",
       "    </tr>\n",
       "    <tr>\n",
       "      <th>2</th>\n",
       "      <td>azul</td>\n",
       "      <td>26</td>\n",
       "    </tr>\n",
       "  </tbody>\n",
       "</table>\n",
       "</div>"
      ],
      "text/plain": [
       "   color  cantidad\n",
       "0   rojo        70\n",
       "1  verde        44\n",
       "2   azul        26"
      ]
     },
     "execution_count": 6,
     "metadata": {
     },
     "output_type": "execute_result"
    }
   ],
   "source": [
    "# Código del Reactivo 3\n",
    "\n",
    "#Etiquetas de cada punto de los datos\n",
    "labels = kmeans.predict(X)\n",
    "\n",
    "#Copia de los Usuarios junto con su respectivo Clúster (label)\n",
    "copy = pd.DataFrame()\n",
    "copy['usuario'] = datos_df['usuario'].values\n",
    "copy['categoria'] = datos_df['categoria'].values\n",
    "copy['label'] = labels;\n",
    "\n",
    "#Conteo de Usuarios por cada Clúster (label)\n",
    "cantidadGrupo =  pd.DataFrame()\n",
    "cantidadGrupo['color'] = ['rojo', 'verde', 'azul']\n",
    "cantidadGrupo['cantidad'] = copy.groupby('label').size()\n",
    "\n",
    "#Impresión de los Resultados\n",
    "print(\"La cantidad de usuarios en cada clúster es:\")\n",
    "display(cantidadGrupo)"
   ]
  },
  {
   "cell_type": "markdown",
   "metadata": {
    "collapsed": false
   },
   "source": [
    "**4.** Mostrar la cantidad de usuarios en el clúster número 1 y sus categorías:"
   ]
  },
  {
   "cell_type": "code",
   "execution_count": 8,
   "metadata": {
    "collapsed": false
   },
   "outputs": [
    {
     "name": "stdout",
     "output_type": "stream",
     "text": [
      "La cantidad total de usuarios en el cluster 1 es: 44\n",
      "La categoría de los usuarios en el clúster 1 es:\n"
     ]
    },
    {
     "data": {
      "text/html": [
       "<div>\n",
       "<style scoped>\n",
       "    .dataframe tbody tr th:only-of-type {\n",
       "        vertical-align: middle;\n",
       "    }\n",
       "\n",
       "    .dataframe tbody tr th {\n",
       "        vertical-align: top;\n",
       "    }\n",
       "\n",
       "    .dataframe thead th {\n",
       "        text-align: right;\n",
       "    }\n",
       "</style>\n",
       "<table border=\"1\" class=\"dataframe\">\n",
       "  <thead>\n",
       "    <tr style=\"text-align: right;\">\n",
       "      <th></th>\n",
       "      <th>Descripción</th>\n",
       "      <th>Cantidad</th>\n",
       "    </tr>\n",
       "    <tr>\n",
       "      <th>Categoria</th>\n",
       "      <th></th>\n",
       "      <th></th>\n",
       "    </tr>\n",
       "  </thead>\n",
       "  <tbody>\n",
       "    <tr>\n",
       "      <th>1</th>\n",
       "      <td>Actor/Actriz</td>\n",
       "      <td>5.0</td>\n",
       "    </tr>\n",
       "    <tr>\n",
       "      <th>2</th>\n",
       "      <td>Cantante</td>\n",
       "      <td>7.0</td>\n",
       "    </tr>\n",
       "    <tr>\n",
       "      <th>3</th>\n",
       "      <td>Modelo</td>\n",
       "      <td>NaN</td>\n",
       "    </tr>\n",
       "    <tr>\n",
       "      <th>4</th>\n",
       "      <td>Televisión/Series</td>\n",
       "      <td>13.0</td>\n",
       "    </tr>\n",
       "    <tr>\n",
       "      <th>5</th>\n",
       "      <td>Radio</td>\n",
       "      <td>3.0</td>\n",
       "    </tr>\n",
       "    <tr>\n",
       "      <th>6</th>\n",
       "      <td>Tecnología</td>\n",
       "      <td>1.0</td>\n",
       "    </tr>\n",
       "    <tr>\n",
       "      <th>7</th>\n",
       "      <td>Deportes</td>\n",
       "      <td>7.0</td>\n",
       "    </tr>\n",
       "    <tr>\n",
       "      <th>8</th>\n",
       "      <td>Política</td>\n",
       "      <td>5.0</td>\n",
       "    </tr>\n",
       "    <tr>\n",
       "      <th>9</th>\n",
       "      <td>Escritor</td>\n",
       "      <td>3.0</td>\n",
       "    </tr>\n",
       "  </tbody>\n",
       "</table>\n",
       "</div>"
      ],
      "text/plain": [
       "                 Descripción  Cantidad\n",
       "Categoria                             \n",
       "1               Actor/Actriz       5.0\n",
       "2                   Cantante       7.0\n",
       "3                     Modelo       NaN\n",
       "4          Televisión/Series      13.0\n",
       "5                      Radio       3.0\n",
       "6                 Tecnología       1.0\n",
       "7                   Deportes       7.0\n",
       "8                   Política       5.0\n",
       "9                   Escritor       3.0"
      ]
     },
     "execution_count": 8,
     "metadata": {
     },
     "output_type": "execute_result"
    }
   ],
   "source": [
    "# Código del Reactivo 4\n",
    "\n",
    "#Copia de los Usuarios contenidos en el Clúster \n",
    "group_referrer_index = copy['label'] == 1\n",
    "group_referrals = copy[group_referrer_index]\n",
    "\n",
    "#Conteo de Usuarios contenidos en el Clúster \n",
    "diversidadGrupo =  pd.DataFrame()\n",
    "diversidadGrupo['Categoria'] = [0,1,2,3,4,5,6,7,8,9]\n",
    "diversidadGrupo['Descripción'] = ['','Actor/Actriz', 'Cantante', 'Modelo', 'Televisión/Series', 'Radio', 'Tecnología', 'Deportes', 'Política', 'Escritor']\n",
    "diversidadGrupo['Cantidad'] = group_referrals.groupby('categoria').size()\n",
    "diversidadGrupo.set_index('Categoria', inplace = True)\n",
    "diversidadGrupo.drop(index = 0, inplace = True)\n",
    "\n",
    "#Impresión de los Resultados\n",
    "print(\"La cantidad total de usuarios en el cluster 1 es:\", cantidadGrupo.iloc[1].loc['cantidad'])\n",
    "print(\"La categoría de los usuarios en el clúster 1 es:\")\n",
    "display(diversidadGrupo)"
   ]
  },
  {
   "cell_type": "markdown",
   "metadata": {
    "collapsed": false
   },
   "source": [
    "**5.** Para los valores (`op`, `co`, `ex`, `ag` y `ne`) definidos a continuación en relación a un nuevo usuario que se quiere clasificar, determinar el clúster al que pertenece: \n",
    "\n",
    "* `op` = 12.65\n",
    "* `co` = 45.34\n",
    "* `ex` = 67.89\n",
    "* `ag` = 43.21\n",
    "* `ne` = 22.56"
   ]
  },
  {
   "cell_type": "code",
   "execution_count": 9,
   "metadata": {
    "collapsed": false,
    "scrolled": true
   },
   "outputs": [
    {
     "name": "stdout",
     "output_type": "stream",
     "text": [
      "El nuevo usuario pertenece al Clúster número: [1]\n"
     ]
    }
   ],
   "source": [
    "# Código del Reactivo 5\n",
    "\n",
    "#Clasificación de nuevas muestras\n",
    "X_new = np.array([[12.65, 45.34, 67.89, 43.21, 22.56]]) \n",
    "new_labels = kmeans.predict(X_new)\n",
    "\n",
    "#Impresión de los Resultados\n",
    "print(\"El nuevo usuario pertenece al Clúster número:\", new_labels)"
   ]
  },
  {
   "cell_type": "markdown",
   "metadata": {
    "collapsed": false
   },
   "source": [
    "<div class=\"alert alert-block alert-danger\">\n",
    "<b>.: Fin del Ejercicio :.</b>\n",
    "</div>"
   ]
  }
 ],
 "metadata": {
  "kernelspec": {
   "display_name": "Python 3 (system-wide)",
   "language": "python",
   "metadata": {
    "cocalc": {
     "description": "Python 3 programming language",
     "priority": 100,
     "url": "https://www.python.org/"
    }
   },
   "name": "python3",
   "resource_dir": "/ext/jupyter/kernels/python3"
  },
  "language_info": {
   "codemirror_mode": {
    "name": "ipython",
    "version": 3
   },
   "file_extension": ".py",
   "mimetype": "text/x-python",
   "name": "python",
   "nbconvert_exporter": "python",
   "pygments_lexer": "ipython3",
   "version": "3.8.5"
  }
 },
 "nbformat": 4,
 "nbformat_minor": 4
}