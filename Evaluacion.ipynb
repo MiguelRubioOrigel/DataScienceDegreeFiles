{
 "cells": [
  {
   "cell_type": "markdown",
   "metadata": {
    "collapsed": false
   },
   "source": [
    "<div class=\"alert alert-block alert-warning\">\n",
    "<img src=\"./Imagenes/ITESO_Logo.png\" style=\"width:500px;height:142px;\" title=\"Logo ITESO\">\n",
    "<span style=\"color:SteelBlue\">\n",
    "<br><font face = \"Times New Roman\" size = \"6\"><b><center>Maestría en Sistemas Computacionales</center></b></font>\n",
    "<br><font face = \"Times New Roman\" size = \"5\"><b><center>Programación para Análisis de Datos</center></b></font>\n",
    "\n",
    "<b><br><font face = \"Times New Roman\" size = \"4\"><center>Evaluación Parcial</center></font>\n",
    "<font face = \"Times New Roman\" size = \"4\"><center>Semestre de Primavera 2021</center></font>\n",
    "</span>\n",
    "</div>"
   ]
  },
  {
   "cell_type": "markdown",
   "metadata": {
    "collapsed": false
   },
   "source": [
    "#### Nombre del Alumno: Miguel Angel Rubio Origel\n",
    "#### Matrícula: CD723963\n",
    "#### Posgrado de Adscripción: Maestría en Ciencia de Datos"
   ]
  },
  {
   "cell_type": "markdown",
   "metadata": {
    "collapsed": false
   },
   "source": [
    "#### Instrucciones:\n",
    "Por favor, revisa cuidadosamente las siguientes instrucciones:\n",
    "\n",
    "* Realiza este ejercicio de manera individual.\n",
    "* Escribe tu nombre completo, matrícula y posgrado de adscripción en los campos correspondientes.\n",
    "* Lee cuidadosamente cada uno de los ejercicios y realiza las acciones solicitadas.\n",
    "* Coloca tu código ejecutable en las celdas debajo de la explicación de cada reactivo.\n",
    "* Sube en CANVAS sólamente el archivo `.ipynb` en la liga correspondiente."
   ]
  },
  {
   "cell_type": "markdown",
   "metadata": {
    "collapsed": false
   },
   "source": [
    "#### Explicación de los Datos:\n",
    "**MiBici** es un servicio de transporte público en la Zona Metropolitana de Guadalajara, el cual está basado en una red de estaciones automáticas donde el usuario registrado puede tomar y/o dejar una bicicleta. El servicio está disponible todos los días, de las 6:00 a las 23:59 hrs.\n",
    "\n",
    "<br>\n",
    "<img src=\"./Imagenes/mibici_logo.png\" style=\"width:268px;height:70px;\" class=\"center\">\n",
    "<br>\n",
    "\n",
    "El portal de **MiBici** contiene información detallada de los viajes realizados desde el año 2014 a la fecha, todo ello en archivos en formato `.CSV` separados por meses, los cuales pueden consultarse [en esta liga.](https://www.mibici.net/es/datos-abiertos)\n",
    "\n",
    "Se desea realizar un análisis de los primeros seis meses de 2019 (enero a junio), para ello se proporcionan los archivos en formato `.CSV`. Cada uno de ellos contiene las mismas columnas de información, y los datos se han limitado a 1,000 entradas en cada archivo para simplificar la cantidad de información disponible para esta evaluación.\n",
    "\n",
    "Las columnas de información en cada uno de los archivos son:\n",
    "\n",
    "1. **ID Viaje**: Es el número de identificación del viaje.\n",
    "2. **ID Usuario**: Es el número de identificación del usuario.\n",
    "3. **Género**: Es el género (*F/M*) del usuario.\n",
    "4. **Año de Nacimiento**: Es el año de nacimiento del usuario.\n",
    "5. **Fecha Inicio Viaje**: Es la fecha en la que se inició el viaje realizado.\n",
    "6. **Hora Inicio Viaje**: Es la hora en la que se inició el viaje realizado.\n",
    "7. **Fecha Fin Viaje**: Es la fecha en la que se concluyó el viaje realizado.\n",
    "8. **Hora Fin Viaje**: Es la hora en la que se concluyó el viaje realizado.\n",
    "9. **ID Origen**: Es el identificador de la estación desde donde se originó el viaje.\n",
    "10. **ID Destino**: Es el identificador de la estación donde se concluyó el viaje.\n",
    "\n",
    "Los archivos contenidos en el directorio `Datos` son:\n",
    "\n",
    "* El archivo `2019_1.csv` corresponde al mes de enero de 2019.\n",
    "* El archivo `2019_2.csv` corresponde al mes de febrero de 2019.\n",
    "* El archivo `2019_3.csv` corresponde al mes de marzo de 2019.\n",
    "* El archivo `2019_4.csv` corresponde al mes de abril de 2019.\n",
    "* El archivo `2019_5.csv` corresponde al mes de mayo de 2019.\n",
    "* El archivo `2019_6.csv` corresponde al mes de junio de 2019.\n",
    "* El archivo `Estaciones.csv` corresponde al nombre de las Estaciones y su localización.\n",
    "\n",
    "Para este análisis, se deben realizar los reactivos descritos a continuación. Cada uno de ellos tiene un valor de **10 CRÉDITOS**, los cuales se agregarán al total acumulado de cada uno de los alumnos del curso."
   ]
  },
  {
   "cell_type": "markdown",
   "metadata": {
    "collapsed": false
   },
   "source": [
    "**1.** Cargar las librerías **Pandas**, **Numpy** y **Matplotlib**. Posteriormente, crear un **DataFrame** donde se inserten a través de una concatenación los seis archivos `.CSV` de datos de **MiBici** correspondientes a los meses de enero a junio de 2019, mostrando el contenido del **DataFrame** final a través del método `.head()`."
   ]
  },
  {
   "cell_type": "code",
   "execution_count": 56,
   "metadata": {
    "collapsed": false
   },
   "outputs": [
    {
     "name": "stdout",
     "output_type": "stream",
     "text": [
      "   ID Viaje  ID Usuario Género  Año de Nacimiento Fecha Inicio Viaje  \\\n",
      "0   9008630        22.0      M             1982.0           10/01/19   \n",
      "1   9027183        22.0      M             1982.0           11/01/19   \n",
      "2   9027413        22.0      M             1982.0           11/01/19   \n",
      "3   9157105        22.0      M             1982.0           19/01/19   \n",
      "4   9201803        22.0      M             1982.0           22/01/19   \n",
      "\n",
      "  Hora Inicio Viaje Fecha Fin Viaje Hora Fin Viaje  ID Origen  ID Destino  \n",
      "0              9:08        10/01/19           9:16         72       199.0  \n",
      "1             10:42        11/01/19          10:45         49        42.0  \n",
      "2             10:59        11/01/19          11:02         47        79.0  \n",
      "3              9:54        19/01/19           9:57         50        52.0  \n",
      "4             10:54        22/01/19          11:03         72       199.0  \n"
     ]
    }
   ],
   "source": [
    "# Código del Reactivo 1\n",
    "import matplotlib.pyplot as plt\n",
    "import pandas as pd\n",
    "import numpy as np\n",
    "\n",
    "month01 = pd.read_csv('2019_1.csv')\n",
    "month02 = pd.read_csv('2019_2.csv')\n",
    "month03 = pd.read_csv('2019_3.csv')\n",
    "month04 = pd.read_csv('2019_4.csv')\n",
    "month05 = pd.read_csv('2019_5.csv')\n",
    "month06 = pd.read_csv('2019_6.csv')\n",
    "df = pd.concat([pd.concat([pd.concat([pd.concat([pd.concat([month01,month02]),month03]),month04]),month05]),month06])\n",
    "print(df.head(5))"
   ]
  },
  {
   "cell_type": "markdown",
   "metadata": {
    "collapsed": false
   },
   "source": [
    "**2.** Definir como el **Indice** del **DataFrame** a la columna *`ID Usuario`*, indicando que se haga un ordenamiento a través de la misma con el método `sort_index()`."
   ]
  },
  {
   "cell_type": "code",
   "execution_count": 57,
   "metadata": {
    "collapsed": false
   },
   "outputs": [
    {
     "name": "stdout",
     "output_type": "stream",
     "text": [
      "            ID Viaje Género  Año de Nacimiento Fecha Inicio Viaje  \\\n",
      "ID Usuario                                                          \n",
      "22.0         9008630      M             1982.0           10/01/19   \n",
      "22.0         9027183      M             1982.0           11/01/19   \n",
      "22.0         9027413      M             1982.0           11/01/19   \n",
      "22.0         9157105      M             1982.0           19/01/19   \n",
      "22.0         9201803      M             1982.0           22/01/19   \n",
      "\n",
      "           Hora Inicio Viaje Fecha Fin Viaje Hora Fin Viaje  ID Origen  \\\n",
      "ID Usuario                                                               \n",
      "22.0                    9:08        10/01/19           9:16         72   \n",
      "22.0                   10:42        11/01/19          10:45         49   \n",
      "22.0                   10:59        11/01/19          11:02         47   \n",
      "22.0                    9:54        19/01/19           9:57         50   \n",
      "22.0                   10:54        22/01/19          11:03         72   \n",
      "\n",
      "            ID Destino  \n",
      "ID Usuario              \n",
      "22.0             199.0  \n",
      "22.0              42.0  \n",
      "22.0              79.0  \n",
      "22.0              52.0  \n",
      "22.0             199.0  \n"
     ]
    }
   ],
   "source": [
    "# Código del Reactivo 2\n",
    "df.set_index('ID Usuario', inplace=True)\n",
    "df.sort_index()\n",
    "print(df.head(5))"
   ]
  },
  {
   "cell_type": "markdown",
   "metadata": {
    "collapsed": false
   },
   "source": [
    "**3.** Convertir las columnas *`Fecha Inicio Viaje`* y *`Fecha Fin Viaje`* a formato de fecha y hora."
   ]
  },
  {
   "cell_type": "code",
   "execution_count": 58,
   "metadata": {
    "collapsed": false
   },
   "outputs": [
    {
     "name": "stdout",
     "output_type": "stream",
     "text": [
      "<class 'pandas.core.frame.DataFrame'>\n",
      "Float64Index: 6000 entries, 22.0 to 410.0\n",
      "Data columns (total 9 columns):\n",
      " #   Column              Non-Null Count  Dtype         \n",
      "---  ------              --------------  -----         \n",
      " 0   ID Viaje            6000 non-null   int64         \n",
      " 1   Género              5961 non-null   object        \n",
      " 2   Año de Nacimiento   5980 non-null   float64       \n",
      " 3   Fecha Inicio Viaje  5974 non-null   datetime64[ns]\n",
      " 4   Hora Inicio Viaje   6000 non-null   object        \n",
      " 5   Fecha Fin Viaje     5980 non-null   datetime64[ns]\n",
      " 6   Hora Fin Viaje      5994 non-null   object        \n",
      " 7   ID Origen           6000 non-null   int64         \n",
      " 8   ID Destino          5996 non-null   float64       \n",
      "dtypes: datetime64[ns](2), float64(2), int64(2), object(3)\n",
      "memory usage: 468.8+ KB\n"
     ]
    }
   ],
   "source": [
    "# Código del Reactivo 3\n",
    "df['Fecha Inicio Viaje']= pd.to_datetime(df['Fecha Inicio Viaje'])\n",
    "df['Fecha Fin Viaje']= pd.to_datetime(df['Fecha Fin Viaje'])\n",
    "df.info()"
   ]
  },
  {
   "cell_type": "markdown",
   "metadata": {
    "collapsed": false
   },
   "source": [
    "**4.** Mostrar la cantidad de celdas que contienen valores nulos en el **DataFrame**"
   ]
  },
  {
   "cell_type": "code",
   "execution_count": 59,
   "metadata": {
    "collapsed": false
   },
   "outputs": [
    {
     "name": "stdout",
     "output_type": "stream",
     "text": [
      "Cantidad de Valores Nulos en el Dataframe = ID Viaje               0\n",
      "Género                39\n",
      "Año de Nacimiento     20\n",
      "Fecha Inicio Viaje    26\n",
      "Hora Inicio Viaje      0\n",
      "Fecha Fin Viaje       20\n",
      "Hora Fin Viaje         6\n",
      "ID Origen              0\n",
      "ID Destino             4\n",
      "dtype: int64\n"
     ]
    }
   ],
   "source": [
    "# Código del Reactivo 4\n",
    "print(\"Cantidad de Valores Nulos en el Dataframe =\", df.isnull().sum())"
   ]
  },
  {
   "cell_type": "markdown",
   "metadata": {
    "collapsed": false
   },
   "source": [
    "**5.** Debido a que es necesario contar con la información completa para cada columna, es posible realizar la eliminación de los renglones que contienen valores nulos. El siguiente paso es eliminar esos renglones:"
   ]
  },
  {
   "cell_type": "code",
   "execution_count": 60,
   "metadata": {
    "collapsed": false
   },
   "outputs": [
   ],
   "source": [
    "# Código del Reactivo 5\n",
    "df = df.dropna()"
   ]
  },
  {
   "cell_type": "markdown",
   "metadata": {
    "collapsed": false
   },
   "source": [
    "**6.** Realizar un conteo de la cantidad de entradas (renglones) restantes que contiene el **DataFrame**, mostrando el resultado con la función `print()`:"
   ]
  },
  {
   "cell_type": "code",
   "execution_count": 61,
   "metadata": {
    "collapsed": false
   },
   "outputs": [
    {
     "name": "stdout",
     "output_type": "stream",
     "text": [
      "Cantidad de Registros en el Dataframe despues de quitar nulos = ID Viaje              5885\n",
      "Género                5885\n",
      "Año de Nacimiento     5885\n",
      "Fecha Inicio Viaje    5885\n",
      "Hora Inicio Viaje     5885\n",
      "Fecha Fin Viaje       5885\n",
      "Hora Fin Viaje        5885\n",
      "ID Origen             5885\n",
      "ID Destino            5885\n",
      "dtype: int64\n"
     ]
    }
   ],
   "source": [
    "# Código del Reactivo 6\n",
    "print(\"Cantidad de Registros en el Dataframe despues de quitar nulos =\", df.count())"
   ]
  },
  {
   "cell_type": "markdown",
   "metadata": {
    "collapsed": false
   },
   "source": [
    "**7.** Determinar el valor de la media de la columna *`Año de Nacimiento`*. Con ello, calcular la edad promedio (al 2021) de los usuarios, e imprimir ambos resultados (año promedio y edad promedio) con la función `print()`:"
   ]
  },
  {
   "cell_type": "code",
   "execution_count": 62,
   "metadata": {
    "collapsed": false
   },
   "outputs": [
    {
     "name": "stdout",
     "output_type": "stream",
     "text": [
      "Año de nacimiento promedio = 1983\n",
      "Edad de usuario promedio = 38\n"
     ]
    }
   ],
   "source": [
    "# Código del Reactivo 7\n",
    "print(\"Año de nacimiento promedio =\",int(round(df['Año de Nacimiento'].mean(),0)))\n",
    "print(\"Edad de usuario promedio =\",2021-int(round(df['Año de Nacimiento'].mean(),0)))"
   ]
  },
  {
   "cell_type": "markdown",
   "metadata": {
    "collapsed": false
   },
   "source": [
    "**8.** Realizar un Histograma del rango de usuarios según su *`Año de Nacimiento`* donde se pueda apreciar la distribución contenida en el **DataFrame**, agregando títulos a los ejes y al gráfico:"
   ]
  },
  {
   "cell_type": "code",
   "execution_count": 63,
   "metadata": {
    "collapsed": false
   },
   "outputs": [
    {
     "data": {
      "text/plain": [
       "Text(0, 0.5, 'Cantidad de Usuarios')"
      ]
     },
     "execution_count": 63,
     "metadata": {
     },
     "output_type": "execute_result"
    },
    {
     "data": {
      "image/png": "[encoded data removed]",
      "text/plain": [
       "<Figure size 864x504 with 1 Axes>"
      ]
     },
     "execution_count": 63,
     "metadata": {
      "image/png": {
       "height": 440,
       "width": 737
      },
      "needs_background": "light"
     },
     "output_type": "execute_result"
    }
   ],
   "source": [
    "# Código del Reactivo 8\n",
    "df['Año de Nacimiento'].plot(kind='hist', title='Años de Nacimiento Usuarios');\n",
    "plt.xlabel(\"Año de Nacimiento\")\n",
    "plt.ylabel(\"Cantidad de Usuarios\")"
   ]
  },
  {
   "cell_type": "markdown",
   "metadata": {
    "collapsed": false
   },
   "source": [
    "**9.** A través de la columna *`ID Origen`* del **DataFrame**, determinar el valor de la *moda* para con ello definir la Estación de origen más utilizada, e imprimir el número de ID de dicha estación. \n",
    "\n",
    "***Nota:*** Una alternativa sencilla es emplear el método `.mode()[0]` de **Pandas**."
   ]
  },
  {
   "cell_type": "code",
   "execution_count": 64,
   "metadata": {
    "collapsed": false
   },
   "outputs": [
    {
     "name": "stdout",
     "output_type": "stream",
     "text": [
      "El ID de la estación de origen más utilizada es 64\n"
     ]
    }
   ],
   "source": [
    "# Código del Reactivo 9\n",
    "print(\"El ID de la estación de origen más utilizada es\",df['ID Origen'].mode()[0])"
   ]
  },
  {
   "cell_type": "markdown",
   "metadata": {
    "collapsed": false
   },
   "source": [
    "**10.** A través de la columna *`ID Destino`* del **DataFrame**, determinar el valor de la *moda* para con ello definir la Estación de destino más utilizada, e imprimir el número de ID de dicha estación. \n",
    "\n",
    "***Nota:*** Una alternativa sencilla es emplear el método `.mode()[0]` de **Pandas**."
   ]
  },
  {
   "cell_type": "code",
   "execution_count": 65,
   "metadata": {
    "collapsed": false
   },
   "outputs": [
    {
     "name": "stdout",
     "output_type": "stream",
     "text": [
      "El ID de la estación de destino más utilizada es 65.0\n"
     ]
    }
   ],
   "source": [
    "# Código del Reactivo 10\n",
    "print(\"El ID de la estación de destino más utilizada es\",df['ID Destino'].mode()[0])"
   ]
  },
  {
   "cell_type": "markdown",
   "metadata": {
    "collapsed": false
   },
   "source": [
    "**11.** Para identificar las Estaciones de origen y destino, se emplearán los datos del archivo `Estaciones.csv`. Para ello, se deberá realizar la lectura desde el archivo y asignar los datos a un nuevo **DataFrame**, cuyo **Indice** se debe definir por la columna *`ID`* y posteriormente mostrar su contenido con el método `.head()`."
   ]
  },
  {
   "cell_type": "code",
   "execution_count": 67,
   "metadata": {
    "collapsed": false
   },
   "outputs": [
    {
     "name": "stdout",
     "output_type": "stream",
     "text": [
      "                            Nombre de la Estación ID Estación  \\\n",
      "ID                                                              \n",
      "2   (GDL-001) C. Epigmenio Glez./ Av. 16 de Sept.     GDL-001   \n",
      "3      (GDL-002) C. Colonias  / Av.  Niños Héroes     GDL-002   \n",
      "4           (GDL-003) C. Vidrio / Av. Chapultepec     GDL-003   \n",
      "5            (GDL-004) C. Ghilardi /C. Miraflores     GDL-004   \n",
      "6   (GDL-005) C. San Diego /Calzada Independencia     GDL-005   \n",
      "\n",
      "        Localización    Latitud    Longitud       Estado  \n",
      "ID                                                        \n",
      "2   Polígono Central  20.666378 -103.348820  En Servicio  \n",
      "3   Polígono Central  20.667228 -103.366000  En Servicio  \n",
      "4   Polígono Central  20.667690 -103.368252  En Servicio  \n",
      "5   Polígono Central  20.691750 -103.362550  En Servicio  \n",
      "6   Polígono Central  20.681151 -103.338863  En Servicio  \n"
     ]
    }
   ],
   "source": [
    "# Código del Reactivo 11\n",
    "df2 = pd.read_csv('Estaciones.csv')\n",
    "df2.set_index('ID', inplace=True)\n",
    "df2.sort_index()\n",
    "print(df2.head(5))"
   ]
  },
  {
   "cell_type": "markdown",
   "metadata": {
    "collapsed": false
   },
   "source": [
    "**12.** Empleando el valor de la Estación de origen más utilizada que se calculó en el reactivo número 9, buscar en el **DataFrame** de Estaciones el ID de dicho valor a través del método `.loc` y mostrar todos los datos de dicha Estación por medio de la función `print()`:"
   ]
  },
  {
   "cell_type": "code",
   "execution_count": 69,
   "metadata": {
    "collapsed": false
   },
   "outputs": [
    {
     "name": "stdout",
     "output_type": "stream",
     "text": [
      "Nombre de la Estación    (GDL-062) C. Libertad / C. Moscú\n",
      "ID Estación                                       GDL-062\n",
      "Localización                             Polígono Central\n",
      "Latitud                                         20.673072\n",
      "Longitud                                      -103.365055\n",
      "Estado                                        En Servicio\n",
      "Name: 64, dtype: object\n"
     ]
    }
   ],
   "source": [
    "# Código del Reactivo 12\n",
    "print(df2.loc[df['ID Origen'].mode()[0],:])"
   ]
  },
  {
   "cell_type": "markdown",
   "metadata": {
    "collapsed": false
   },
   "source": [
    "**13.** Empleando el valor de la Estación de destino más utilizada que se calculó en el reactivo número 10, buscar en el **DataFrame** de Estaciones el ID de dicho valor a través del método `.loc` y mostrar todos los datos de dicha Estación por medio de la función `print()`:"
   ]
  },
  {
   "cell_type": "code",
   "execution_count": 70,
   "metadata": {
    "collapsed": false
   },
   "outputs": [
    {
     "name": "stdout",
     "output_type": "stream",
     "text": [
      "Nombre de la Estación    (GDL-063) C. Colonias  / C. López Cotilla\n",
      "ID Estación                                                GDL-063\n",
      "Localización                                      Polígono Central\n",
      "Latitud                                                  20.674132\n",
      "Longitud                                               -103.366139\n",
      "Estado                                                 En Servicio\n",
      "Name: 65, dtype: object\n"
     ]
    }
   ],
   "source": [
    "# Código del Reactivo 13\n",
    "print(df2.loc[df['ID Destino'].mode()[0],:])"
   ]
  },
  {
   "cell_type": "markdown",
   "metadata": {
    "collapsed": false
   },
   "source": [
    "### Reactivo de Reto #1\n",
    "**14.** Para esta operación se realizarán tres acciones (***10 créditos cada acción***):\n",
    "- **a)** Crear una nueva columna de nombre *`Viaje`* la cual contendrá solamente valores iguales a 1.\n",
    "- **b)** Crear un nuevo **DataFrame** donde se copien las columnas *`Género`* y *`Viaje`*. Debido a que la columna *`ID Usuario`* es el índice, será parte del nuevo **DataFrame** también.\n",
    "- **c)** Agrupar este nuevo **DataFrame** por medio de las columnas *`Género`* y *`ID Usuario`* empleando el método `.groupby()`, agregando el método que realiza la suma de los valores `.sum()` el cual mostrará la cantidad de viajes de cada usuario."
   ]
  },
  {
   "cell_type": "code",
   "execution_count": 77,
   "metadata": {
    "collapsed": false
   },
   "outputs": [
    {
     "name": "stdout",
     "output_type": "stream",
     "text": [
      "                   Viaje\n",
      "Género ID Usuario       \n",
      "F      66.0           57\n",
      "       78.0           18\n",
      "       83.0            1\n",
      "       94.0           29\n",
      "       129.0           2\n",
      "...                  ...\n",
      "M      389.0          36\n",
      "       394.0           4\n",
      "       405.0           3\n",
      "       406.0          34\n",
      "       410.0           3\n",
      "\n",
      "[104 rows x 1 columns]\n"
     ]
    }
   ],
   "source": [
    "# Código del Reactivo 14\n",
    "df['Viaje'] = 1\n",
    "Reto1_df = df[['Género','Viaje']]\n",
    "print(Reto1_df.groupby(['Género',Reto1_df.index]).sum())"
   ]
  },
  {
   "cell_type": "markdown",
   "metadata": {
    "collapsed": false
   },
   "source": [
    "### Reactivo de Reto #2\n",
    "**15.** Para esta operación se realizarán cuatro acciones (***10 créditos cada acción***):\n",
    "- **a)** Crear un nuevo **DataFrame** que contenga las columnas *`Hora Inicio Viaje`* y *`Hora Fin Viaje`*.\n",
    "- **b)** Convertir las columnas *`Hora Inicio Viaje`* y *`Hora Fin Viaje`* del nuevo **DataFrame** a formato de fecha y hora.\n",
    "- **c)** Realizar la resta numérica de las columnas *`Hora Fin Viaje`* y *`Hora Inicio Viaje`* del nuevo **DataFrame**, y asignar el resultado a una nueva columna llamada *`Tiempo`* en el **DataFrame** original. Este valor representa el tiempo para cada viaje. ***Nota:*** Esta operación causará un *Warning* por la relación entre ambos **DataFrames**, la instrucción indicada en el código es para no mostrarlo.\n",
    "- **d)** Mostrar el **DataFrame** original que incluye la nueva columna de *`Tiempo`*."
   ]
  },
  {
   "cell_type": "code",
   "execution_count": 82,
   "metadata": {
    "collapsed": false
   },
   "outputs": [
    {
     "name": "stdout",
     "output_type": "stream",
     "text": [
      "            ID Viaje Género  Año de Nacimiento Fecha Inicio Viaje  \\\n",
      "ID Usuario                                                          \n",
      "22.0         9008630      M             1982.0         2019-10-01   \n",
      "22.0         9027183      M             1982.0         2019-11-01   \n",
      "22.0         9027413      M             1982.0         2019-11-01   \n",
      "22.0         9157105      M             1982.0         2019-01-19   \n",
      "22.0         9201803      M             1982.0         2019-01-22   \n",
      "\n",
      "           Hora Inicio Viaje Fecha Fin Viaje Hora Fin Viaje  ID Origen  \\\n",
      "ID Usuario                                                               \n",
      "22.0                    9:08      2019-10-01           9:16         72   \n",
      "22.0                   10:42      2019-11-01          10:45         49   \n",
      "22.0                   10:59      2019-11-01          11:02         47   \n",
      "22.0                    9:54      2019-01-19           9:57         50   \n",
      "22.0                   10:54      2019-01-22          11:03         72   \n",
      "\n",
      "            ID Destino  Viaje          Tiempo  \n",
      "ID Usuario                                     \n",
      "22.0             199.0      1 0 days 00:08:00  \n",
      "22.0              42.0      1 0 days 00:03:00  \n",
      "22.0              79.0      1 0 days 00:03:00  \n",
      "22.0              52.0      1 0 days 00:03:00  \n",
      "22.0             199.0      1 0 days 00:09:00  \n"
     ]
    }
   ],
   "source": [
    "# Código del Reactivo 15\n",
    "Reto2_df = df[['Hora Inicio Viaje','Hora Fin Viaje']]\n",
    "Reto2_df['Hora Inicio Viaje']= pd.to_datetime(Reto2_df['Hora Inicio Viaje'])\n",
    "Reto2_df['Hora Fin Viaje']= pd.to_datetime(Reto2_df['Hora Fin Viaje'])\n",
    "df['Tiempo'] = Reto2_df['Hora Fin Viaje'] - Reto2_df['Hora Inicio Viaje']\n",
    "print(df.head(5))\n",
    "#Apagar los Warnings\n",
    "pd.set_option(\"mode.chained_assignment\", None)"
   ]
  },
  {
   "cell_type": "markdown",
   "metadata": {
    "collapsed": false
   },
   "source": [
    "<div class=\"alert alert-block alert-danger\">\n",
    "<b>.: Fin de la Evaluación :.</b>\n",
    "</div>"
   ]
  }
 ],
 "metadata": {
  "anaconda-cloud": {
  },
  "kernelspec": {
   "display_name": "Python 3 (system-wide)",
   "language": "python",
   "metadata": {
    "cocalc": {
     "description": "Python 3 programming language",
     "priority": 100,
     "url": "https://www.python.org/"
    }
   },
   "name": "python3",
   "resource_dir": "/ext/jupyter/kernels/python3"
  },
  "language_info": {
   "codemirror_mode": {
    "name": "ipython",
    "version": 3
   },
   "file_extension": ".py",
   "mimetype": "text/x-python",
   "name": "python",
   "nbconvert_exporter": "python",
   "pygments_lexer": "ipython3",
   "version": "3.8.5"
  },
  "toc": {
   "nav_menu": {
   },
   "number_sections": true,
   "sideBar": true,
   "skip_h1_title": false,
   "toc_cell": false,
   "toc_position": {
   },
   "toc_section_display": "block",
   "toc_window_display": true
  }
 },
 "nbformat": 4,
 "nbformat_minor": 4
}