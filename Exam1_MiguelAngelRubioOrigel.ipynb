{
 "cells": [
  {
   "cell_type": "markdown",
   "metadata": {
    "collapsed": false
   },
   "source": [
    "# Module 1 - Exam - Part 2 - Practical\n",
    "\n",
    "<img style=\"float: right; margin: 0px 0px 15px 15px;\" src=\"https://upload.wikimedia.org/wikipedia/commons/1/18/Bayes%27_Theorem_MMB_01.jpg\" width=\"400px\" height=\"300px\" />\n",
    "\n",
    "> In the second part of the exam, you will set up and program some Bayesian networks according to some description. These descriptions are to be obtained from experts, in real life.\n",
    ">\n",
    "> Then, you will make questions (queries) to your network using functions that you will define. For this exam, you are not allowed to use inference algorithms provided by `pgmpy`. Instead, you will construct simple inference functions for you to perform queries to the net.\n",
    ">\n",
    "> Good luck!\n",
    "\n",
    "> **References:**\n",
    "> \n",
    "> - Probabilistic Graphical Models Specialization, offered through Coursera. Prof. Daphne Koller.\n",
    ">   - Simple BN Knowledge Engineering Assignment.\n",
    "\n",
    "\n",
    "<p style=\"text-align:right;\"> Imagen recuperada de: https://upload.wikimedia.org/wikipedia/commons/1/18/Bayes%27_Theorem_MMB_01.jpg.</p>\n",
    "\n",
    "___"
   ]
  },
  {
   "cell_type": "markdown",
   "metadata": {
    "collapsed": false
   },
   "source": [
    "# 1. Engineering network for credit-worthiness (50 points).\n",
    "\n",
    "Your friend at the bank, hearing of your newfound expertise in probabilistic graphical models, asks you to help him develop a predictor for whether a person will make timely payments on his/her debt obligations, like credit card bills and loan payments. In short, your friend wants you to develop a predictor for **credit-worthiness**. He tells you that the bank is able to observe:\n",
    "- the customer’s income (High, Medium, Low),\n",
    "- the amount of assets the person has (High, Medium, Low),\n",
    "- the person’s ratio of debts to income (Low, High),\n",
    "- the person’s payment history (Excellent, Acceptable, Unacceptable),\n",
    "- as well as the person’s age (Between16and21, Between22and64, Over65).\n",
    "\n",
    "He also thinks that the credit-worthiness of a person is ultimately dependent on \n",
    "- how reliable a person is (Reliable, Unreliable),\n",
    "- as well as the person’s future income (Promising, Not_promising)."
   ]
  },
  {
   "cell_type": "markdown",
   "metadata": {
    "collapsed": false
   },
   "source": [
    "He hopes that, given the eight variables above, you can help him encode into the network the following observations he has made from his experience in evaluating people’s credit-worthiness:\n",
    "1. The better a person’s payment history, the more likely the person is to be reliable.\n",
    "2. The older a person is, the more likely the person is to be reliable.\n",
    "3. Older people are more likely to have an excellent payment history.\n",
    "4. People who have a high ratio of debts to income are likely to be in financial hardship and hence less likely to have a good payment history.\n",
    "5. The higher a person’s income, the more likely it is for the person to have many assets.\n",
    "6. The more assets a person has and the higher the person’s income, the more likely the person is to have a promising future income.\n",
    "7. All other things being equal, reliable people are more likely to be credit-worthy than unreliable people. Likewise, people who have promising future incomes, or who have low ratios of debts to income, are more likely to be credit-worthy than people who do not."
   ]
  },
  {
   "cell_type": "markdown",
   "metadata": {
    "collapsed": false
   },
   "source": [
    "1. (20 points) Construct a network using `pgmpy`, adding appropriate edges and defining the CPDs, so that your network captures the behavior that your friend expects. Your network will be evaluated solely on whether it produces marginals that are consistent with the desired behavior and not on the actual values of the CPDs in the network. As an example, here is the condition that your network should satisfy for it to be considered consistent with observation 1: if we let $R$ denote the random variable for the reliability variable, and let $H$ denote the random variable for payment history, then your network should satisfy:\n",
    "\n",
    "   $$P(R=Reliable|H=Excellent) > P(R=Reliable|H=Acceptable) > P(R=Reliable|H=Unacceptable).$$"
   ]
  },
  {
   "cell_type": "code",
   "execution_count": 42,
   "metadata": {
    "collapsed": false
   },
   "outputs": [
   ],
   "source": [
    "from pgmpy.models import BayesianModel\n",
    "from pgmpy.factors.discrete import TabularCPD\n",
    "import pgmpy.factors.discrete as dis"
   ]
  },
  {
   "cell_type": "code",
   "execution_count": 43,
   "metadata": {
    "collapsed": false
   },
   "outputs": [
   ],
   "source": [
    "# Defining the model structure. We can define the network by just passing a list of edges.\n",
    "model = BayesianModel([('Age', 'PaymentHistory'),\n",
    "                       ('Age', 'Reliability'),\n",
    "                       ('LowDebtRatio', 'PaymentHistory'),\n",
    "                       ('PaymentHistory', 'Reliability'),\n",
    "                       ('CurrentIncome','FutureIncome'),\n",
    "                       ('CurrentIncome','Assets'),\n",
    "                       ('Assets','FutureIncome'),\n",
    "                       ('Reliability','CreditWorthiness'),\n",
    "                       ('LowDebtRatio','CreditWorthiness'),\n",
    "                       ('FutureIncome','CreditWorthiness')]) "
   ]
  },
  {
   "cell_type": "code",
   "execution_count": 44,
   "metadata": {
    "collapsed": false
   },
   "outputs": [
   ],
   "source": [
    "cpd_Age = TabularCPD(variable='Age', variable_card=3, values=[[0.1], [0.7], [0.2]])"
   ]
  },
  {
   "cell_type": "code",
   "execution_count": 45,
   "metadata": {
    "collapsed": false
   },
   "outputs": [
   ],
   "source": [
    "cpd_LowDebtRatio = TabularCPD(variable='LowDebtRatio', variable_card=2, values=[[0.4], [0.6]])"
   ]
  },
  {
   "cell_type": "code",
   "execution_count": 46,
   "metadata": {
    "collapsed": false
   },
   "outputs": [
   ],
   "source": [
    "cpd_CurrentIncome = TabularCPD(variable='CurrentIncome', variable_card=3, values=[[0.35], [0.55], [0.1]])"
   ]
  },
  {
   "cell_type": "code",
   "execution_count": 47,
   "metadata": {
    "collapsed": false
   },
   "outputs": [
   ],
   "source": [
    "cpd_PaymentHistory = TabularCPD(variable='PaymentHistory', variable_card=3, \n",
    "                    values=[[0.99, 0.1, 0.59,  0.05, 0.6, 0.05],\n",
    "                            [0.009, 0.7, 0.35, 0.35, 0.3, 0.1],\n",
    "                            [0.001, 0.2,  0.06, 0.6, 0.1, 0.85]],\n",
    "                   evidence=['Age', 'LowDebtRatio'],\n",
    "                   evidence_card=[3, 2])"
   ]
  },
  {
   "cell_type": "code",
   "execution_count": 48,
   "metadata": {
    "collapsed": false
   },
   "outputs": [
   ],
   "source": [
    "cpd_Reliability = TabularCPD(variable='Reliability', variable_card=2, \n",
    "                    values=[[0.9, 0.6, 0.4, 0.6, 0.4, 0.1, 0.4, 0.1, 0.001],\n",
    "                            [0.1, 0.4, 0.6, 0.4, 0.6, 0.9, 0.6, 0.9, 0.999]],\n",
    "                   evidence=['Age', 'PaymentHistory'],\n",
    "                   evidence_card=[3, 3])"
   ]
  },
  {
   "cell_type": "code",
   "execution_count": 49,
   "metadata": {
    "collapsed": false
   },
   "outputs": [
   ],
   "source": [
    "cpd_FutureIncome = TabularCPD(variable='FutureIncome', variable_card=2, \n",
    "                    values=[[0.95, 0.8, 0.4, 0.4, 0.6, 0.2, 0.2, 0.05, 0.001],\n",
    "                            [0.05, 0.2, 0.6, 0.6, 0.4, 0.8, 0.8, 0.95, 0.999]],\n",
    "                   evidence=['CurrentIncome', 'Assets'],\n",
    "                   evidence_card=[3, 3])"
   ]
  },
  {
   "cell_type": "code",
   "execution_count": 50,
   "metadata": {
    "collapsed": false
   },
   "outputs": [
   ],
   "source": [
    "cpd_Assets = TabularCPD(variable='Assets', variable_card=3, \n",
    "                    values=[[0.7, 0.3, 0.01],\n",
    "                            [0.25, 0.55, 0.7],\n",
    "                            [0.05, 0.15, 0.29]],\n",
    "                   evidence=['CurrentIncome'],\n",
    "                   evidence_card=[3])"
   ]
  },
  {
   "cell_type": "code",
   "execution_count": 51,
   "metadata": {
    "collapsed": false
   },
   "outputs": [
   ],
   "source": [
    "cpd_CreditWorthiness = TabularCPD(variable='CreditWorthiness', variable_card=2, \n",
    "                    values=[[0.999, 0.9, 0.85, 0.35, 0.4, 0.3, 0.2, 0.001],\n",
    "                            [0.001, 0.1, 0.15, 0.65, 0.6, 0.7, 0.8, 0.999]],\n",
    "                   evidence=['LowDebtRatio', 'Reliability', 'FutureIncome'],\n",
    "                   evidence_card=[2, 2, 2])"
   ]
  },
  {
   "cell_type": "code",
   "execution_count": 0,
   "metadata": {
    "collapsed": false
   },
   "outputs": [
   ],
   "source": [
   ]
  },
  {
   "cell_type": "code",
   "execution_count": 0,
   "metadata": {
    "collapsed": false
   },
   "outputs": [
   ],
   "source": [
   ]
  },
  {
   "cell_type": "markdown",
   "metadata": {
    "collapsed": false
   },
   "source": [
    "2. (20 points) For defining the CPDs above you must have used DiscreteFactor objects or TabularCPD objects. In any case, TabularCPD objects inherit from DiscreteFactor class. As we have seen in class, `pgmpy` already provides you how to do factor product, factor marginalization and evidence observation operations.\n",
    "\n",
    "   Based on these operations you should define two functions:\n",
    "   - **compute_joint_distribution (10 points):** - This function should return a factor representing the joint distribution given a set of factors that define a Bayesian network. You may assume that you will only be given factors defining valid CPDs, so no input validation is required.\n",
    "   - **compute_marginal (10 points):** This function should return the marginals over input variables (the input variables are those that remain in the marginal), given a set of factors that define a Bayesian network, and, optionally, evidence."
   ]
  },
  {
   "cell_type": "code",
   "execution_count": 52,
   "metadata": {
    "collapsed": false
   },
   "outputs": [
   ],
   "source": [
    "def compute_joint_distribution(cpds):\n",
    "    \"\"\"\n",
    "    This function takes as an input an iterable of CPDs (factors)\n",
    "    and returns the joint distribution defined by them, according\n",
    "    to the chain rule for a Bayesian network:\n",
    "                      n\n",
    "    P(X1, ..., Xn) =  𝜫  P(Xi | Pa Xi).\n",
    "                     i=1\n",
    "    \n",
    "    :param list[DiscreteFactor] cpds: list of CPDs, such that cpds[i-1] = P(Xi | Pa Xi).\n",
    "    :return: DiscreteFactor corresponding the joint distribution.\n",
    "    \"\"\"\n",
    "    factors = [cpd.to_factor() for cpd in cpds]\n",
    "    joint = factors[0].identity_factor()\n",
    "    for f in factors:\n",
    "        joint = joint * f\n",
    "    return joint"
   ]
  },
  {
   "cell_type": "code",
   "execution_count": 81,
   "metadata": {
    "collapsed": false
   },
   "outputs": [
   ],
   "source": [
    "def compute_marginal(cpds, variables, evidence):\n",
    "    \"\"\"\n",
    "    This function takes as an input an iterable of CPDs (factors),\n",
    "    an iterable of variables that will remain in the marginal, and\n",
    "    optionally an iterable of tuples defining the evidence.\n",
    "    \n",
    "    It returns the marginal conditional distribution P(variables | evidence).\n",
    "    \n",
    "    :param list[DiscreteFactor] cpds: list of CPDs, such that cpds[i-1] = P(Xi | Pa Xi).\n",
    "    :param list[str] variables: list of variables to keep in the marginal.\n",
    "    :param list[tuples] evidence: list of evidence in the form of tuples ('name_of_variable', value).\n",
    "    :return: DiscreteFactor corresponding the marginal conditional distribution.\n",
    "    \"\"\"\n",
    "    #Paso 0 calcular la distribucion conjunta\n",
    "    joint = compute_joint_distribution(cpds)\n",
    "    #Paso 1 obtener la lista de todas las variables involucradas\n",
    "    todasVariables = joint.scope()\n",
    "    #Paso 2 obtener las variables a marginalizar\n",
    "    variablesMarginalizar = (set(todasVariables) - set(variables)) - set([e[0] for e in evidence])\n",
    "    #Paso 3 marginalizar\n",
    "    marginal = joint.marginalize(variables = variablesMarginalizar, inplace = False)\n",
    "    #Paso 4 reducir de acuerdo a la evidencia\n",
    "    marginal_reducida = marginal.reduce(values = evidence, inplace = False)\n",
    "    #Paso 5 normalizar\n",
    "    marginal_reducida.values = marginal_reducida.values / marginal_reducida.values.sum()\n",
    "    return marginal_reducida"
   ]
  },
  {
   "cell_type": "code",
   "execution_count": 60,
   "metadata": {
    "collapsed": false
   },
   "outputs": [
    {
     "name": "stdout",
     "output_type": "stream",
     "text": [
      "+-------------------+-----------------+-----------------+-----------------+-----------------+-----------------+-----------------+\n",
      "| Age               | Age(0)          | Age(0)          | Age(1)          | Age(1)          | Age(2)          | Age(2)          |\n",
      "+-------------------+-----------------+-----------------+-----------------+-----------------+-----------------+-----------------+\n",
      "| LowDebtRatio      | LowDebtRatio(0) | LowDebtRatio(1) | LowDebtRatio(0) | LowDebtRatio(1) | LowDebtRatio(0) | LowDebtRatio(1) |\n",
      "+-------------------+-----------------+-----------------+-----------------+-----------------+-----------------+-----------------+\n",
      "| PaymentHistory(0) | 0.99            | 0.1             | 0.59            | 0.05            | 0.6             | 0.05            |\n",
      "+-------------------+-----------------+-----------------+-----------------+-----------------+-----------------+-----------------+\n",
      "| PaymentHistory(1) | 0.009           | 0.7             | 0.35            | 0.35            | 0.3             | 0.1             |\n",
      "+-------------------+-----------------+-----------------+-----------------+-----------------+-----------------+-----------------+\n",
      "| PaymentHistory(2) | 0.001           | 0.2             | 0.06            | 0.6             | 0.1             | 0.85            |\n",
      "+-------------------+-----------------+-----------------+-----------------+-----------------+-----------------+-----------------+\n"
     ]
    }
   ],
   "source": [
    "# You may want to check your functions\n",
    "print(cpd_PaymentHistory)"
   ]
  },
  {
   "cell_type": "code",
   "execution_count": 82,
   "metadata": {
    "collapsed": false
   },
   "outputs": [
    {
     "name": "stdout",
     "output_type": "stream",
     "text": [
      "+--------+------------+\n",
      "| Age    |   phi(Age) |\n",
      "+========+============+\n",
      "| Age(0) |     0.0820 |\n",
      "+--------+------------+\n",
      "| Age(1) |     0.6984 |\n",
      "+--------+------------+\n",
      "| Age(2) |     0.2196 |\n",
      "+--------+------------+\n"
     ]
    }
   ],
   "source": [
    "print(compute_marginal([cpd_Age,cpd_LowDebtRatio,cpd_CurrentIncome,cpd_PaymentHistory,cpd_Reliability,cpd_FutureIncome,cpd_Assets,cpd_CreditWorthiness],['Age'],[('CreditWorthiness',1)]))"
   ]
  },
  {
   "cell_type": "code",
   "execution_count": 77,
   "metadata": {
    "collapsed": false,
    "scrolled": true
   },
   "outputs": [
    {
     "name": "stdout",
     "output_type": "stream",
     "text": [
      "None\n"
     ]
    }
   ],
   "source": [
   ]
  },
  {
   "cell_type": "code",
   "execution_count": 0,
   "metadata": {
    "collapsed": false
   },
   "outputs": [
   ],
   "source": [
   ]
  },
  {
   "cell_type": "code",
   "execution_count": 0,
   "metadata": {
    "collapsed": false
   },
   "outputs": [
   ],
   "source": [
   ]
  },
  {
   "cell_type": "markdown",
   "metadata": {
    "collapsed": false
   },
   "source": [
    "3. (10 points) With the above functions you have implemented a rudementary inference engine for Bayesian networks. You can use your implementation to experiment with the credit-worthiness network that you constructed in the first numeral.\n",
    "\n",
    "    Please, perform the necessary queries to check that each of your friend's observation is correctly encoded by your network:\n",
    "    1. The better a person’s payment history, the more likely the person is to be reliable.\n",
    "    2. The older a person is, the more likely the person is to be reliable.\n",
    "    3. Older people are more likely to have an excellent payment history.\n",
    "    4. People who have a high ratio of debts to income are likely to be in financial hardship and hence less likely to have a good payment history.\n",
    "    5. The higher a person’s income, the more likely it is for the person to have many assets.\n",
    "    6. The more assets a person has and the higher the person’s income, the more likely the person is to have a promising future income.\n",
    "    7. All other things being equal, reliable people are more likely to be credit-worthy than unreliable people. Likewise, people who have promising future incomes, or who have low ratios of debts to income, are more likely to be credit-worthy than people who do not."
   ]
  },
  {
   "cell_type": "code",
   "execution_count": 0,
   "metadata": {
    "collapsed": false
   },
   "outputs": [
   ],
   "source": [
   ]
  },
  {
   "cell_type": "code",
   "execution_count": 0,
   "metadata": {
    "collapsed": false
   },
   "outputs": [
   ],
   "source": [
   ]
  },
  {
   "cell_type": "code",
   "execution_count": 0,
   "metadata": {
    "collapsed": false
   },
   "outputs": [
   ],
   "source": [
   ]
  },
  {
   "cell_type": "code",
   "execution_count": 0,
   "metadata": {
    "collapsed": false
   },
   "outputs": [
   ],
   "source": [
   ]
  },
  {
   "cell_type": "code",
   "execution_count": 0,
   "metadata": {
    "collapsed": false
   },
   "outputs": [
   ],
   "source": [
   ]
  },
  {
   "cell_type": "code",
   "execution_count": 0,
   "metadata": {
    "collapsed": false
   },
   "outputs": [
   ],
   "source": [
   ]
  },
  {
   "cell_type": "code",
   "execution_count": 0,
   "metadata": {
    "collapsed": false
   },
   "outputs": [
   ],
   "source": [
   ]
  },
  {
   "cell_type": "code",
   "execution_count": 0,
   "metadata": {
    "collapsed": false
   },
   "outputs": [
   ],
   "source": [
   ]
  },
  {
   "cell_type": "code",
   "execution_count": 0,
   "metadata": {
    "collapsed": false
   },
   "outputs": [
   ],
   "source": [
   ]
  },
  {
   "cell_type": "code",
   "execution_count": 0,
   "metadata": {
    "collapsed": false
   },
   "outputs": [
   ],
   "source": [
   ]
  },
  {
   "cell_type": "code",
   "execution_count": 0,
   "metadata": {
    "collapsed": false
   },
   "outputs": [
   ],
   "source": [
   ]
  },
  {
   "cell_type": "code",
   "execution_count": 0,
   "metadata": {
    "collapsed": false
   },
   "outputs": [
   ],
   "source": [
   ]
  },
  {
   "cell_type": "code",
   "execution_count": 0,
   "metadata": {
    "collapsed": false
   },
   "outputs": [
   ],
   "source": [
   ]
  },
  {
   "cell_type": "markdown",
   "metadata": {
    "collapsed": false
   },
   "source": [
    "4. Optional. This numeral gives you extra points. In the case that the grade of one of your homeworks is less than 100, you have the opportunity to recover the points doing this numeral.\n",
    "   \n",
    "   Set up the network in SAMIAM and check that the marginals computed by SAMIAM are the same than those computed by your inference engine."
   ]
  }
 ],
 "metadata": {
  "kernelspec": {
   "display_name": "Python 3 (system-wide)",
   "language": "python",
   "metadata": {
    "cocalc": {
     "description": "Python 3 programming language",
     "priority": 100,
     "url": "https://www.python.org/"
    }
   },
   "name": "python3",
   "resource_dir": "/ext/jupyter/kernels/python3"
  },
  "language_info": {
   "codemirror_mode": {
    "name": "ipython",
    "version": 3
   },
   "file_extension": ".py",
   "mimetype": "text/x-python",
   "name": "python",
   "nbconvert_exporter": "python",
   "pygments_lexer": "ipython3",
   "version": "3.8.10"
  }
 },
 "nbformat": 4,
 "nbformat_minor": 4
}