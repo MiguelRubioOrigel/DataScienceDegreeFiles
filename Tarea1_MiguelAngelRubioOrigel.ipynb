{
 "cells": [
  {
   "cell_type": "markdown",
   "metadata": {
    "collapsed": false
   },
   "source": [
    "# Tarea 1. Repaso de teoría de probabilidad\n",
    "\n",
    "<img style=\"float: right; margin: 0px 0px 15px 15px;\" src=\"https://storage.needpix.com/rsynced_images/bayesian-2889576_1280.png\" width=\"200px\" height=\"180px\" />\n",
    "\n",
    "Esta constituye la primera tarea del curso. Las tareas están pensadas para que afiances los conocimientos vistos en clase, repases la clase y debas darle una segunda leida. Incluso revisar otro material.\n",
    "\n",
    "Esta primera tarea contiene ejercicios puramente teóricos para que repases conceptos muy básicos de teoría de probabilidad. Conforme vamos avanzando en el curso, también encontraremos ejercicios más orientados hacia la práctica.\n",
    "\n",
    "Para los ejercicios teóricos la orientación es que seas lo más explícit@ posible. Además, cuando se te pida demostrar, que tu exposición sea clara y te apoyes de la escritura matemática con $\\LaTeX$.\n",
    "\n",
    "Recuerda además que ante cualquier duda, me puedes contactar al correo esjimenezro@iteso.mx.\n",
    "\n",
    "<p style=\"text-align:right;\"> Imagen recuperada de: https://storage.needpix.com/rsynced_images/bayesian-2889576_1280.png.</p>\n",
    "\n",
    "___"
   ]
  },
  {
   "cell_type": "markdown",
   "metadata": {
    "collapsed": false
   },
   "source": [
    "## 1. \n",
    "\n",
    "A partir de la propiedad de regla de la cadena, probar la siguiente proposición:\n",
    "\n",
    "> *Proposición.* (**Regla de la cadena**) Sean $\\alpha_1,\\dots,\\alpha_k$ eventos, con $k\\in\\mathbb{N}$. Entonces,\n",
    "> $$P(\\alpha_1\\cap\\dots\\cap\\alpha_k) = P(\\alpha_1)P(\\alpha_2|\\alpha_1)\\dots P(\\alpha_k|\\alpha_1, \\dots, \\alpha_k).$$"
   ]
  },
  {
   "cell_type": "markdown",
   "metadata": {
    "collapsed": false
   },
   "source": [
    "Cuando k=1 tenemos la definicion de regla de la cadena $P(a \\cap b) = P(a)P(b|a)$\n",
    "supongamos entonces que se cumple para un numero arbitrario k, es decir, lo siguiente se cumple: $ P(a_1 \\cap ... \\cap a_k) = P(a_1)P(a_2|a_1)...P(a_k|a_1,...,a_{k-1} )$"
   ]
  },
  {
   "cell_type": "markdown",
   "metadata": {
    "collapsed": false
   },
   "source": [
    "Entonces probaremos que tambien se cumple para k+1 (induccion matematica):\n",
    "Sea $ P(a_1 \\cap ... \\cap a_k \\cap a_{k+1})  = P(a \\cap b) $\n",
    "donde $ a = a_1 \\cap ... \\cap a_k $ y $ b = a_{k+1}$\n",
    "\n",
    "Entonces $ P(a_1 \\cap ... \\cap a_k \\cap a_{k+1}) = P(a)P(b|a) = P(a_1 \\cap ... \\cap a_k) P(a_{k+1} | a_1 \\cap ... \\cap a_k) $\n",
    "es decir $ P(a_1 \\cap ... \\cap a_k \\cap a_{k+1}) = P(a_1)P(a_2|a_1)P(a_k|a_1,...,a_{k-1} ) P(a_{k+1} | a_1, ...,a_k) $\n",
    "\n",
    "Lo cual demuestra la proposicion."
   ]
  },
  {
   "cell_type": "markdown",
   "metadata": {
    "collapsed": false
   },
   "source": [
   ]
  },
  {
   "cell_type": "markdown",
   "metadata": {
    "collapsed": false
   },
   "source": [
    "## 2. \n",
    "\n",
    "A partir de la definición de independencia condicional, probar la siguiente proposición:\n",
    "\n",
    "> *Proposición.* $P$ satisface $(\\alpha \\perp \\beta | \\gamma)$ si y solo si $P(\\alpha \\cap \\beta | \\gamma) = P(\\alpha | \\gamma) P(\\beta | \\gamma).$"
   ]
  },
  {
   "cell_type": "markdown",
   "metadata": {
    "collapsed": false
   },
   "source": [
   ]
  },
  {
   "cell_type": "markdown",
   "metadata": {
    "collapsed": false
   },
   "source": [
   ]
  },
  {
   "cell_type": "markdown",
   "metadata": {
    "collapsed": false
   },
   "source": [
   ]
  },
  {
   "cell_type": "markdown",
   "metadata": {
    "collapsed": false
   },
   "source": [
    "## 3.\n",
    "A partir de la definición de distribución de probabilidad, probar la siguiente proposición:\n",
    "\n",
    "> *Proposición.* Para cualquier distribución de probabilidad $P$ sobre $(\\Omega, \\mathcal{S})$, y cualquier par de eventos $\\alpha, \\beta \\in \\mathcal{S}$ se cumple que, si $\\alpha \\subset \\beta$ entonces $P(\\alpha) \\leq P (\\beta)$."
   ]
  },
  {
   "cell_type": "markdown",
   "metadata": {
    "collapsed": false
   },
   "source": [
    "Si $ a \\subset b $ entonces $ a \\cup (a^c \\cap b) = b $    ademas   $ a \\cap (a^c \\cap b) = \\emptyset $, es decir los dos conjuntos son disjuntos."
   ]
  },
  {
   "cell_type": "markdown",
   "metadata": {
    "collapsed": false
   },
   "source": [
    "Por lo que podemos aplicar la propiedad siguiente:  $ P(a \\cup (a^c \\cap b)) = P(b) $, es decir,\n",
    "$ P(a) + P(a^c \\cap b) = P(b) $"
   ]
  },
  {
   "cell_type": "markdown",
   "metadata": {
    "collapsed": false
   },
   "source": [
    "Dado que $ P(a^c \\cap b) >= 0 $, si lo quitamos del resultado anterior, obtendremos la desigualdad deseada:\n",
    "$ P(a) <= P(b) $, lo cual demuestra la proposicion."
   ]
  },
  {
   "cell_type": "markdown",
   "metadata": {
    "collapsed": false
   },
   "source": [
    "## 4.\n",
    "\n",
    "Considere dos eventos $\\alpha, \\beta$ tales que $P(\\alpha) = p_a$ y $P(\\beta) = p_b$.\n",
    "\n",
    "1. Calcule los valores máximo y mínimo que puede alcanzar $P(\\alpha \\cup \\beta)$.\n",
    "   - ¿En qué situaciones se alcanzan esos valores extremos?\n",
    "   \n",
    "2. Calcule los valores máximo y mínimo que puede alcanzar $P(\\alpha \\cap \\beta)$.\n",
    "   - ¿En qué situaciones se alcanzan esos valores extremos?"
   ]
  },
  {
   "cell_type": "markdown",
   "metadata": {
    "collapsed": false
   },
   "source": [
    "1. El minimo de $P(\\alpha \\cup \\beta)$ se alcanza cuando ambos conjuntos son iguales, porque entonces $P(\\alpha \\cup \\beta) = P(\\alpha) = P(\\beta) $, \n",
    "el maximo de $P(\\alpha \\cup \\beta)$ se alcanza cuando ambos conjuntos son complementos, porque entonces $P(\\alpha \\cup \\beta) = 1 $, cuando uno es subconjunto del otro, la probabilidad de la union sera la probabilidad del conjunto mas grande, lo cual no es el valor minimo posible."
   ]
  },
  {
   "cell_type": "markdown",
   "metadata": {
    "collapsed": false
   },
   "source": [
    "2. El minimo de $P(\\alpha \\cap \\beta)$ se alcanza cuando ambos conjuntos son disjuntos, porque $P(\\alpha \\cap \\beta) = 0$, \n",
    "el maximo de $P(\\alpha \\cap \\beta)$ se alcanza cuando son iguales porque entonces $P(\\alpha \\cup \\beta) = P(\\alpha) = P(\\beta) $, cuando uno es subconjunto del otro, la probabilidad de la interseccion sera la probabilidad del conjunto mas pequeno, lo cual no es el valor maximo posible."
   ]
  },
  {
   "cell_type": "markdown",
   "metadata": {
    "collapsed": false
   },
   "source": [
   ]
  },
  {
   "cell_type": "markdown",
   "metadata": {
    "collapsed": false
   },
   "source": [
    "## 5.\n",
    "\n",
    "Supongamos que una prueba para la COVID-19 tiene una precisión del 95%. Esto es, si el paciente está infectado, entonces el resultado de la prueba será positivo con probabilidad de 0.95, y si el paciente NO está infectado, el resutado de la prueba será negativo con probabilidad de 0.95.\n",
    "\n",
    "Ahora, suponga que una persona tuvo un resultado de prueba positivo.\n",
    "\n",
    "1. ¿Cuál es la probabilidad de que esta persona esté infectada en efecto?\n",
    "\n",
    "2. ¿Cuál es la probabilidad de que no esté infectada?"
   ]
  },
  {
   "cell_type": "markdown",
   "metadata": {
    "collapsed": false
   },
   "source": [
   ]
  },
  {
   "cell_type": "markdown",
   "metadata": {
    "collapsed": false
   },
   "source": [
   ]
  },
  {
   "cell_type": "markdown",
   "metadata": {
    "collapsed": false
   },
   "source": [
   ]
  },
  {
   "cell_type": "code",
   "execution_count": 0,
   "metadata": {
    "collapsed": false
   },
   "outputs": [
   ],
   "source": [
   ]
  },
  {
   "cell_type": "markdown",
   "metadata": {
    "collapsed": false
   },
   "source": [
    "# 6.\n",
    "\n",
    "En clase no vimos conceptos importantes de las para describir VA, como lo son el **valor esperado** y **varianza**. Sin embargo, creo que todos están a tono con estos conceptos. Para no dejarlo al aire:\n",
    "\n",
    "> *Definición.* Sea $X$ una VA discreta que toma valores numéricos. El **valor esperado** de la VA $X$ bajo la distribución $P$ es\n",
    "> \n",
    "> $$E_P[X] = \\sum_{x} x P(X=x).$$\n",
    ">\n",
    "> La **varianza** de la VA $X$ bajo la distribución $P$ es\n",
    ">\n",
    "> $$Var_P[X] = E_P[(X - E_P[X])^2] = E_P[X^2] - (E_P[X])^2.$$"
   ]
  },
  {
   "cell_type": "markdown",
   "metadata": {
    "collapsed": false
   },
   "source": [
    "Es común que haya cierta confusión en el significado del valor esperado. Un significado que le podemos dar a este valor, viene dado por la [ley de los grandes números](https://www.khanacademy.org/math/statistics-probability/random-variables-stats-library/expected-value-lib/v/law-of-large-numbers)."
   ]
  },
  {
   "cell_type": "markdown",
   "metadata": {
    "collapsed": false
   },
   "source": [
    "Para convencerte de esto, en este ejercicio simularás la tirada de un dado justo:\n",
    "\n",
    "1. Definimos la VA $X$ como el valor que muestra el dado cuando cae, es decir $\\mathrm{Val}(X) = \\{1, 2, 3, 4, 5, 6\\}$.\n",
    "2. Como el dado es justo $P(X=i)=\\frac{1}{|\\mathrm{Val}(X)|}=\\frac{1}{6}$ para todo $i=1,\\dots,6$.\n",
    "\n",
    "¿Cuál es el valor esperado $E[X]$?"
   ]
  },
  {
   "cell_type": "code",
   "execution_count": 5,
   "metadata": {
    "collapsed": false
   },
   "outputs": [
    {
     "data": {
      "text/plain": [
       "'1/6 + 2/6 + 3/6 + 4/6 + 5/6 + 6/6 = 21/6 = 3.5'"
      ]
     },
     "execution_count": 5,
     "metadata": {
     },
     "output_type": "execute_result"
    }
   ],
   "source": [
    "# Calcular el valor esperado teórico de la VA X\n",
    "\"1/6 + 2/6 + 3/6 + 4/6 + 5/6 + 6/6 = 21/6 = 3.5\""
   ]
  },
  {
   "cell_type": "markdown",
   "metadata": {
    "collapsed": false
   },
   "source": [
    "Ahora, viene el paso de simulación. \n",
    "\n",
    "1. Vas a simular por lo menos 1000 veces la tirada del dado, guardando a cada tirada el resultado obtenido.\n",
    "\n",
    "2. Vas a calcular el valor promedio de los resultados *a cada tirada*. Es decir, si los resultados en las primeras $n$ tiradas son $x_1,\\dots,x_n$, el valor promedio en la tirada $n$ es\n",
    "\n",
    "   $$\\bar{x}_n = \\frac{x_1+\\dots+x_n}{n}.$$\n",
    "\n",
    "3. Finalmente, vas a graficar los valores promedio obtenidos a cada tirada (en el eje $y$) vs. el número de tiradas (en el eje $x$). Incluir el valor esperado teórico en la gráfica. ¿Qué observas?\n",
    "\n",
    "*Ayuda: apoyarse del modulo random de numpy. Para su nivel, espero que no incluyan ni un solo ciclo en su código.*"
   ]
  },
  {
   "cell_type": "code",
   "execution_count": 27,
   "metadata": {
    "collapsed": false
   },
   "outputs": [
    {
     "data": {
      "image/png": "[encoded data removed]",
      "text/plain": [
       "<Figure size 864x504 with 1 Axes>"
      ]
     },
     "execution_count": 27,
     "metadata": {
      "image/png": {
       "height": 411,
       "width": 713
      },
      "needs_background": "light"
     },
     "output_type": "execute_result"
    }
   ],
   "source": [
    "import numpy as np\n",
    "import pandas as pd\n",
    "import matplotlib as plt\n",
    "tiradas = pd.DataFrame([np.random.randint(1, 7) for _ in range(1000)], columns = ['Value'])\n",
    "promedios = pd.DataFrame(np.array(tiradas['Value'].expanding().mean()), columns = ['Promedio'])\n",
    "lines = promedios.plot.line()\n",
    "\n",
    "#Parece que el grafico se estabiliza alrededor del valor esperado de 3.5"
   ]
  },
  {
   "cell_type": "code",
   "execution_count": 0,
   "metadata": {
    "collapsed": false
   },
   "outputs": [
   ],
   "source": [
   ]
  },
  {
   "cell_type": "code",
   "execution_count": 0,
   "metadata": {
    "collapsed": false
   },
   "outputs": [
   ],
   "source": [
   ]
  },
  {
   "cell_type": "markdown",
   "metadata": {
    "collapsed": false
   },
   "source": [
    "<script>\n",
    "  $(document).ready(function(){\n",
    "    $('div.prompt').hide();\n",
    "    $('div.back-to-top').hide();\n",
    "    $('nav#menubar').hide();\n",
    "    $('.breadcrumb').hide();\n",
    "    $('.hidden-print').hide();\n",
    "  });\n",
    "</script>\n",
    "\n",
    "<footer id=\"attribution\" style=\"float:right; color:#808080; background:#fff;\">\n",
    "Created with Jupyter by Esteban Jiménez Rodríguez.\n",
    "</footer>"
   ]
  }
 ],
 "metadata": {
  "kernelspec": {
   "display_name": "Python 3 (system-wide)",
   "language": "python",
   "metadata": {
    "cocalc": {
     "description": "Python 3 programming language",
     "priority": 100,
     "url": "https://www.python.org/"
    }
   },
   "name": "python3",
   "resource_dir": "/ext/jupyter/kernels/python3"
  },
  "language_info": {
   "codemirror_mode": {
    "name": "ipython",
    "version": 3
   },
   "file_extension": ".py",
   "mimetype": "text/x-python",
   "name": "python",
   "nbconvert_exporter": "python",
   "pygments_lexer": "ipython3",
   "version": "3.8.10"
  }
 },
 "nbformat": 4,
 "nbformat_minor": 4
}